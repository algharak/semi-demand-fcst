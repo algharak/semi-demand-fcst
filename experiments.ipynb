{
  "nbformat": 4,
  "nbformat_minor": 0,
  "metadata": {
    "colab": {
      "name": "experiments.ipynb",
      "provenance": [],
      "collapsed_sections": [],
      "include_colab_link": true
    },
    "kernelspec": {
      "name": "python3",
      "display_name": "Python 3"
    },
    "widgets": {
      "application/vnd.jupyter.widget-state+json": {
        "252c3a58634140c5b578af4c510556da": {
          "model_module": "@jupyter-widgets/controls",
          "model_name": "HBoxModel",
          "state": {
            "_view_name": "HBoxView",
            "_dom_classes": [],
            "_model_name": "HBoxModel",
            "_view_module": "@jupyter-widgets/controls",
            "_model_module_version": "1.5.0",
            "_view_count": null,
            "_view_module_version": "1.5.0",
            "box_style": "",
            "layout": "IPY_MODEL_6e80301b69ab4aa5a3d19d3bf750e14a",
            "_model_module": "@jupyter-widgets/controls",
            "children": [
              "IPY_MODEL_dc2ab7fd5778489599ac42f764622a40",
              "IPY_MODEL_ffaca8214fff4851a205c1f458ace057"
            ]
          }
        },
        "6e80301b69ab4aa5a3d19d3bf750e14a": {
          "model_module": "@jupyter-widgets/base",
          "model_name": "LayoutModel",
          "state": {
            "_view_name": "LayoutView",
            "grid_template_rows": null,
            "right": null,
            "justify_content": null,
            "_view_module": "@jupyter-widgets/base",
            "overflow": null,
            "_model_module_version": "1.2.0",
            "_view_count": null,
            "flex_flow": null,
            "width": null,
            "min_width": null,
            "border": null,
            "align_items": null,
            "bottom": null,
            "_model_module": "@jupyter-widgets/base",
            "top": null,
            "grid_column": null,
            "overflow_y": null,
            "overflow_x": null,
            "grid_auto_flow": null,
            "grid_area": null,
            "grid_template_columns": null,
            "flex": null,
            "_model_name": "LayoutModel",
            "justify_items": null,
            "grid_row": null,
            "max_height": null,
            "align_content": null,
            "visibility": null,
            "align_self": null,
            "height": null,
            "min_height": null,
            "padding": null,
            "grid_auto_rows": null,
            "grid_gap": null,
            "max_width": null,
            "order": null,
            "_view_module_version": "1.2.0",
            "grid_template_areas": null,
            "object_position": null,
            "object_fit": null,
            "grid_auto_columns": null,
            "margin": null,
            "display": null,
            "left": null
          }
        },
        "dc2ab7fd5778489599ac42f764622a40": {
          "model_module": "@jupyter-widgets/controls",
          "model_name": "FloatProgressModel",
          "state": {
            "_view_name": "ProgressView",
            "style": "IPY_MODEL_456a547976344c08b39304b4a298ae5b",
            "_dom_classes": [],
            "description": "100%",
            "_model_name": "FloatProgressModel",
            "bar_style": "success",
            "max": 1037336,
            "_view_module": "@jupyter-widgets/controls",
            "_model_module_version": "1.5.0",
            "value": 1037336,
            "_view_count": null,
            "_view_module_version": "1.5.0",
            "orientation": "horizontal",
            "min": 0,
            "description_tooltip": null,
            "_model_module": "@jupyter-widgets/controls",
            "layout": "IPY_MODEL_f4f68784b1e9430782144147cbadbca3"
          }
        },
        "ffaca8214fff4851a205c1f458ace057": {
          "model_module": "@jupyter-widgets/controls",
          "model_name": "HTMLModel",
          "state": {
            "_view_name": "HTMLView",
            "style": "IPY_MODEL_a7c0c2143bc448ad88a930dc291fdf25",
            "_dom_classes": [],
            "description": "",
            "_model_name": "HTMLModel",
            "placeholder": "​",
            "_view_module": "@jupyter-widgets/controls",
            "_model_module_version": "1.5.0",
            "value": " 1037336/1037336 [18:22&lt;00:00, 941.24it/s]",
            "_view_count": null,
            "_view_module_version": "1.5.0",
            "description_tooltip": null,
            "_model_module": "@jupyter-widgets/controls",
            "layout": "IPY_MODEL_2211e721b3924019a149f6b2d11d6c66"
          }
        },
        "456a547976344c08b39304b4a298ae5b": {
          "model_module": "@jupyter-widgets/controls",
          "model_name": "ProgressStyleModel",
          "state": {
            "_view_name": "StyleView",
            "_model_name": "ProgressStyleModel",
            "description_width": "initial",
            "_view_module": "@jupyter-widgets/base",
            "_model_module_version": "1.5.0",
            "_view_count": null,
            "_view_module_version": "1.2.0",
            "bar_color": null,
            "_model_module": "@jupyter-widgets/controls"
          }
        },
        "f4f68784b1e9430782144147cbadbca3": {
          "model_module": "@jupyter-widgets/base",
          "model_name": "LayoutModel",
          "state": {
            "_view_name": "LayoutView",
            "grid_template_rows": null,
            "right": null,
            "justify_content": null,
            "_view_module": "@jupyter-widgets/base",
            "overflow": null,
            "_model_module_version": "1.2.0",
            "_view_count": null,
            "flex_flow": null,
            "width": null,
            "min_width": null,
            "border": null,
            "align_items": null,
            "bottom": null,
            "_model_module": "@jupyter-widgets/base",
            "top": null,
            "grid_column": null,
            "overflow_y": null,
            "overflow_x": null,
            "grid_auto_flow": null,
            "grid_area": null,
            "grid_template_columns": null,
            "flex": null,
            "_model_name": "LayoutModel",
            "justify_items": null,
            "grid_row": null,
            "max_height": null,
            "align_content": null,
            "visibility": null,
            "align_self": null,
            "height": null,
            "min_height": null,
            "padding": null,
            "grid_auto_rows": null,
            "grid_gap": null,
            "max_width": null,
            "order": null,
            "_view_module_version": "1.2.0",
            "grid_template_areas": null,
            "object_position": null,
            "object_fit": null,
            "grid_auto_columns": null,
            "margin": null,
            "display": null,
            "left": null
          }
        },
        "a7c0c2143bc448ad88a930dc291fdf25": {
          "model_module": "@jupyter-widgets/controls",
          "model_name": "DescriptionStyleModel",
          "state": {
            "_view_name": "StyleView",
            "_model_name": "DescriptionStyleModel",
            "description_width": "",
            "_view_module": "@jupyter-widgets/base",
            "_model_module_version": "1.5.0",
            "_view_count": null,
            "_view_module_version": "1.2.0",
            "_model_module": "@jupyter-widgets/controls"
          }
        },
        "2211e721b3924019a149f6b2d11d6c66": {
          "model_module": "@jupyter-widgets/base",
          "model_name": "LayoutModel",
          "state": {
            "_view_name": "LayoutView",
            "grid_template_rows": null,
            "right": null,
            "justify_content": null,
            "_view_module": "@jupyter-widgets/base",
            "overflow": null,
            "_model_module_version": "1.2.0",
            "_view_count": null,
            "flex_flow": null,
            "width": null,
            "min_width": null,
            "border": null,
            "align_items": null,
            "bottom": null,
            "_model_module": "@jupyter-widgets/base",
            "top": null,
            "grid_column": null,
            "overflow_y": null,
            "overflow_x": null,
            "grid_auto_flow": null,
            "grid_area": null,
            "grid_template_columns": null,
            "flex": null,
            "_model_name": "LayoutModel",
            "justify_items": null,
            "grid_row": null,
            "max_height": null,
            "align_content": null,
            "visibility": null,
            "align_self": null,
            "height": null,
            "min_height": null,
            "padding": null,
            "grid_auto_rows": null,
            "grid_gap": null,
            "max_width": null,
            "order": null,
            "_view_module_version": "1.2.0",
            "grid_template_areas": null,
            "object_position": null,
            "object_fit": null,
            "grid_auto_columns": null,
            "margin": null,
            "display": null,
            "left": null
          }
        }
      }
    }
  },
  "cells": [
    {
      "cell_type": "markdown",
      "metadata": {
        "id": "view-in-github",
        "colab_type": "text"
      },
      "source": [
        "<a href=\"https://colab.research.google.com/github/algharak/semi-demand-fcst/blob/master/experiments.ipynb\" target=\"_parent\"><img src=\"https://colab.research.google.com/assets/colab-badge.svg\" alt=\"Open In Colab\"/></a>"
      ]
    },
    {
      "cell_type": "code",
      "metadata": {
        "id": "hmA5LRGhBe00",
        "colab_type": "code",
        "colab": {
          "base_uri": "https://localhost:8080/",
          "height": 289
        },
        "outputId": "dd733265-8145-46b6-c90e-29b23100e022"
      },
      "source": [
        "%matplotlib inline\n",
        "!pip install mxnet\n",
        "import mxnet as mx\n",
        "from mxnet import gluon\n",
        "import numpy as np\n",
        "import pandas as pd\n",
        "import matplotlib.pyplot as plt\n",
        "import json\n",
        "import os\n",
        "from itertools import islice\n",
        "from pathlib import Path\n"
      ],
      "execution_count": 1,
      "outputs": [
        {
          "output_type": "stream",
          "text": [
            "Collecting mxnet\n",
            "\u001b[?25l  Downloading https://files.pythonhosted.org/packages/81/f5/d79b5b40735086ff1100c680703e0f3efc830fa455e268e9e96f3c857e93/mxnet-1.6.0-py2.py3-none-any.whl (68.7MB)\n",
            "\u001b[K     |████████████████████████████████| 68.7MB 59kB/s \n",
            "\u001b[?25hRequirement already satisfied: requests<3,>=2.20.0 in /usr/local/lib/python3.6/dist-packages (from mxnet) (2.23.0)\n",
            "Collecting graphviz<0.9.0,>=0.8.1\n",
            "  Downloading https://files.pythonhosted.org/packages/53/39/4ab213673844e0c004bed8a0781a0721a3f6bb23eb8854ee75c236428892/graphviz-0.8.4-py2.py3-none-any.whl\n",
            "Requirement already satisfied: numpy<2.0.0,>1.16.0 in /usr/local/lib/python3.6/dist-packages (from mxnet) (1.18.5)\n",
            "Requirement already satisfied: idna<3,>=2.5 in /usr/local/lib/python3.6/dist-packages (from requests<3,>=2.20.0->mxnet) (2.9)\n",
            "Requirement already satisfied: urllib3!=1.25.0,!=1.25.1,<1.26,>=1.21.1 in /usr/local/lib/python3.6/dist-packages (from requests<3,>=2.20.0->mxnet) (1.24.3)\n",
            "Requirement already satisfied: certifi>=2017.4.17 in /usr/local/lib/python3.6/dist-packages (from requests<3,>=2.20.0->mxnet) (2020.4.5.2)\n",
            "Requirement already satisfied: chardet<4,>=3.0.2 in /usr/local/lib/python3.6/dist-packages (from requests<3,>=2.20.0->mxnet) (3.0.4)\n",
            "Installing collected packages: graphviz, mxnet\n",
            "  Found existing installation: graphviz 0.10.1\n",
            "    Uninstalling graphviz-0.10.1:\n",
            "      Successfully uninstalled graphviz-0.10.1\n",
            "Successfully installed graphviz-0.8.4 mxnet-1.6.0\n"
          ],
          "name": "stdout"
        }
      ]
    },
    {
      "cell_type": "code",
      "metadata": {
        "id": "3l6YAbUgSIMA",
        "colab_type": "code",
        "colab": {}
      },
      "source": [
        "mx.random.seed(0)\n",
        "np.random.seed(0)"
      ],
      "execution_count": 2,
      "outputs": []
    },
    {
      "cell_type": "code",
      "metadata": {
        "id": "DMWbJJOlSjLM",
        "colab_type": "code",
        "colab": {
          "base_uri": "https://localhost:8080/",
          "height": 493
        },
        "outputId": "219a7e5d-994e-4495-8da0-fd6dc3d4c541"
      },
      "source": [
        "!pip install gluonts"
      ],
      "execution_count": 3,
      "outputs": [
        {
          "output_type": "stream",
          "text": [
            "Collecting gluonts\n",
            "\u001b[?25l  Downloading https://files.pythonhosted.org/packages/c2/07/5a63f7d645761982743d375fc816120b680e0de13ac139829e509b3206fc/gluonts-0.5.0-py3-none-any.whl (419kB)\n",
            "\u001b[K     |████████████████████████████████| 419kB 8.0MB/s \n",
            "\u001b[?25hCollecting ujson~=1.35\n",
            "\u001b[?25l  Downloading https://files.pythonhosted.org/packages/16/c4/79f3409bc710559015464e5f49b9879430d8f87498ecdc335899732e5377/ujson-1.35.tar.gz (192kB)\n",
            "\u001b[K     |████████████████████████████████| 194kB 20.8MB/s \n",
            "\u001b[?25hRequirement already satisfied: pandas~=1.0 in /usr/local/lib/python3.6/dist-packages (from gluonts) (1.0.5)\n",
            "Requirement already satisfied: matplotlib~=3.0 in /usr/local/lib/python3.6/dist-packages (from gluonts) (3.2.2)\n",
            "Collecting pydantic~=1.1\n",
            "\u001b[?25l  Downloading https://files.pythonhosted.org/packages/57/c9/7d664fbe54863b92cea790c7305915888c2f13a68a754893d8291bab0d0d/pydantic-1.5.1-cp36-cp36m-manylinux2014_x86_64.whl (7.4MB)\n",
            "\u001b[K     |████████████████████████████████| 7.4MB 22.5MB/s \n",
            "\u001b[?25hRequirement already satisfied: tqdm~=4.23 in /usr/local/lib/python3.6/dist-packages (from gluonts) (4.41.1)\n",
            "Requirement already satisfied: numpy~=1.16 in /usr/local/lib/python3.6/dist-packages (from gluonts) (1.18.5)\n",
            "Requirement already satisfied: holidays<0.10,>=0.9 in /usr/local/lib/python3.6/dist-packages (from gluonts) (0.9.12)\n",
            "Requirement already satisfied: python-dateutil>=2.6.1 in /usr/local/lib/python3.6/dist-packages (from pandas~=1.0->gluonts) (2.8.1)\n",
            "Requirement already satisfied: pytz>=2017.2 in /usr/local/lib/python3.6/dist-packages (from pandas~=1.0->gluonts) (2018.9)\n",
            "Requirement already satisfied: cycler>=0.10 in /usr/local/lib/python3.6/dist-packages (from matplotlib~=3.0->gluonts) (0.10.0)\n",
            "Requirement already satisfied: kiwisolver>=1.0.1 in /usr/local/lib/python3.6/dist-packages (from matplotlib~=3.0->gluonts) (1.2.0)\n",
            "Requirement already satisfied: pyparsing!=2.0.4,!=2.1.2,!=2.1.6,>=2.0.1 in /usr/local/lib/python3.6/dist-packages (from matplotlib~=3.0->gluonts) (2.4.7)\n",
            "Requirement already satisfied: dataclasses>=0.6; python_version < \"3.7\" in /usr/local/lib/python3.6/dist-packages (from pydantic~=1.1->gluonts) (0.7)\n",
            "Requirement already satisfied: six in /usr/local/lib/python3.6/dist-packages (from holidays<0.10,>=0.9->gluonts) (1.12.0)\n",
            "Building wheels for collected packages: ujson\n",
            "  Building wheel for ujson (setup.py) ... \u001b[?25l\u001b[?25hdone\n",
            "  Created wheel for ujson: filename=ujson-1.35-cp36-cp36m-linux_x86_64.whl size=68029 sha256=8ba3db6138dc5736076fada32bcb01ac64fa3f56d3c8d790418946d464b247f3\n",
            "  Stored in directory: /root/.cache/pip/wheels/28/77/e4/0311145b9c2e2f01470e744855131f9e34d6919687550f87d1\n",
            "Successfully built ujson\n",
            "Installing collected packages: ujson, pydantic, gluonts\n",
            "Successfully installed gluonts-0.5.0 pydantic-1.5.1 ujson-1.35\n"
          ],
          "name": "stdout"
        }
      ]
    },
    {
      "cell_type": "code",
      "metadata": {
        "id": "URXuJgqhSRF6",
        "colab_type": "code",
        "colab": {
          "base_uri": "https://localhost:8080/",
          "height": 54
        },
        "outputId": "cd5a5719-da1a-49f8-837d-0074c671750e"
      },
      "source": [
        "from gluonts.dataset.repository.datasets import get_dataset, dataset_recipes\n",
        "from gluonts.dataset.util import to_pandas\n",
        "print(f\"Available datasets: {list(dataset_recipes.keys())}\")"
      ],
      "execution_count": 4,
      "outputs": [
        {
          "output_type": "stream",
          "text": [
            "Available datasets: ['constant', 'exchange_rate', 'solar-energy', 'electricity', 'traffic', 'exchange_rate_nips', 'electricity_nips', 'traffic_nips', 'solar_nips', 'wiki-rolling_nips', 'taxi_30min', 'm4_hourly', 'm4_daily', 'm4_weekly', 'm4_monthly', 'm4_quarterly', 'm4_yearly', 'm5']\n"
          ],
          "name": "stdout"
        }
      ]
    },
    {
      "cell_type": "code",
      "metadata": {
        "id": "LKodXDuxS7Xb",
        "colab_type": "code",
        "colab": {
          "base_uri": "https://localhost:8080/",
          "height": 51
        },
        "outputId": "54312d3e-aeff-4ac1-b825-c11ac10e854a"
      },
      "source": [
        "dataset = get_dataset(\"m4_monthly\", regenerate=True)"
      ],
      "execution_count": 5,
      "outputs": [
        {
          "output_type": "stream",
          "text": [
            "saving time-series into /root/.mxnet/gluon-ts/datasets/m4_monthly/train/data.json\n",
            "saving time-series into /root/.mxnet/gluon-ts/datasets/m4_monthly/test/data.json\n"
          ],
          "name": "stdout"
        }
      ]
    },
    {
      "cell_type": "code",
      "metadata": {
        "id": "8Y7VaGiQBTDd",
        "colab_type": "code",
        "colab": {}
      },
      "source": [
        "it = iter(dataset.train)\n",
        "train_entry = next(it)\n",
        "#train_entry = next(iter(dataset.train))\n",
        "print(train_entry.keys())\n",
        "print(train_entry['start'])\n",
        "ll=[x for x in range(100)]\n",
        "for count in range(50):\n",
        "  ll[count] = next(it)\n",
        "  print(ll[count]['start'])\n",
        "print(ll[count+3])"
      ],
      "execution_count": null,
      "outputs": []
    },
    {
      "cell_type": "code",
      "metadata": {
        "id": "Na8OqILHTHOe",
        "colab_type": "code",
        "colab": {}
      },
      "source": [
        "train_entry = next(iter(dataset.train))\n",
        "test_entry = next(iter(dataset.test))\n",
        "print(train_entry['target'].shape)\n",
        "\n",
        "print(test_entry['target'].shape)\n",
        "train_entry = next(iter(dataset.train))\n",
        "test_entry = next(iter(dataset.test))\n",
        "print(train_entry['target'].shape)\n",
        "\n",
        "print(test_entry['target'].shape)\n"
      ],
      "execution_count": null,
      "outputs": []
    },
    {
      "cell_type": "code",
      "metadata": {
        "id": "mNxPr62h6LL_",
        "colab_type": "code",
        "colab": {}
      },
      "source": [
        "print (type(dataset.metadata))\n",
        "print (dataset.metadata)\n"
      ],
      "execution_count": null,
      "outputs": []
    },
    {
      "cell_type": "code",
      "metadata": {
        "id": "b9KkjiwJR4_Q",
        "colab_type": "code",
        "colab": {}
      },
      "source": [
        "me=iter(dataset.train)\n",
        "j = 1\n",
        "for i in me:\n",
        "  mef = to_pandas(i)\n",
        "  print (j)\n",
        "  print (mef.shape)\n",
        "  j +=1\n",
        "print ('i am donr')\n",
        "\n"
      ],
      "execution_count": null,
      "outputs": []
    },
    {
      "cell_type": "code",
      "metadata": {
        "id": "UrQOJcmRUjkM",
        "colab_type": "code",
        "colab": {}
      },
      "source": [
        "\n",
        "fig, ax = plt.subplots(2, 1, sharex=True, sharey=True, figsize=(10, 7))\n",
        "\n",
        "train_series.plot(ax=ax[0])\n",
        "ax[0].grid(which=\"both\")\n",
        "ax[0].legend([\"train series\"], loc=\"upper left\")\n",
        "\n",
        "test_series.plot(ax=ax[1])\n",
        "ax[1].axvline(train_series.index[-1], color='r') # end of train dataset\n",
        "ax[1].grid(which=\"both\")\n",
        "ax[1].legend([\"test series\", \"end of train series\"], loc=\"upper left\")\n",
        "\n",
        "plt.show()"
      ],
      "execution_count": null,
      "outputs": []
    },
    {
      "cell_type": "code",
      "metadata": {
        "id": "lr_1I3bK02qB",
        "colab_type": "code",
        "colab": {
          "resources": {
            "http://localhost:8080/nbextensions/google.colab/files.js": {
              "data": "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",
              "ok": true,
              "headers": [
                [
                  "content-type",
                  "application/javascript"
                ]
              ],
              "status": 200,
              "status_text": ""
            }
          },
          "base_uri": "https://localhost:8080/",
          "height": 72
        },
        "outputId": "5a1dcccb-91a4-4b11-8e9e-e2b44b1b36cb"
      },
      "source": [
        "from google.colab import files\n",
        "uploaded = files.upload()"
      ],
      "execution_count": 159,
      "outputs": [
        {
          "output_type": "display_data",
          "data": {
            "text/html": [
              "\n",
              "     <input type=\"file\" id=\"files-99c91141-56e0-482f-afe0-30d4d55b54f1\" name=\"files[]\" multiple disabled\n",
              "        style=\"border:none\" />\n",
              "     <output id=\"result-99c91141-56e0-482f-afe0-30d4d55b54f1\">\n",
              "      Upload widget is only available when the cell has been executed in the\n",
              "      current browser session. Please rerun this cell to enable.\n",
              "      </output>\n",
              "      <script src=\"/nbextensions/google.colab/files.js\"></script> "
            ],
            "text/plain": [
              "<IPython.core.display.HTML object>"
            ]
          },
          "metadata": {
            "tags": []
          }
        },
        {
          "output_type": "stream",
          "text": [
            "Saving Historical Product Demand.csv to Historical Product Demand.csv\n"
          ],
          "name": "stdout"
        }
      ]
    },
    {
      "cell_type": "code",
      "metadata": {
        "id": "-cjffxYR3DoC",
        "colab_type": "code",
        "colab": {
          "base_uri": "https://localhost:8080/",
          "height": 255
        },
        "outputId": "8d65214a-2a99-42b8-ee66-0523d10bb9db"
      },
      "source": [
        "import io\n",
        "import pandas as pd\n",
        "\n",
        "df2 = pd.read_csv(io.BytesIO(uploaded['Historical Product Demand.csv']),parse_dates=[\"Date\"])\n",
        "df2.head"
      ],
      "execution_count": 161,
      "outputs": [
        {
          "output_type": "execute_result",
          "data": {
            "text/plain": [
              "<bound method NDFrame.head of          Product_Code Warehouse Product_Category       Date  Order_Demand\n",
              "0        Product_0965    Whse_A     Category_006 2011-01-08             2\n",
              "1        Product_1724    Whse_A     Category_003 2011-05-31           108\n",
              "2        Product_1521    Whse_S     Category_019 2011-06-24         85000\n",
              "3        Product_1521    Whse_S     Category_019 2011-06-24          7000\n",
              "4        Product_1507    Whse_C     Category_019 2011-09-02          1250\n",
              "...               ...       ...              ...        ...           ...\n",
              "1037331  Product_1954    Whse_J     Category_001 2017-01-06             3\n",
              "1037332  Product_1710    Whse_J     Category_026 2017-01-06            15\n",
              "1037333  Product_1904    Whse_C     Category_019 2017-01-09          4000\n",
              "1037334  Product_0250    Whse_C     Category_007 2017-01-09           148\n",
              "1037335  Product_0471    Whse_C     Category_015 2017-01-09            30\n",
              "\n",
              "[1037336 rows x 5 columns]>"
            ]
          },
          "metadata": {
            "tags": []
          },
          "execution_count": 161
        }
      ]
    },
    {
      "cell_type": "code",
      "metadata": {
        "id": "FqjMDNH33ydN",
        "colab_type": "code",
        "colab": {
          "base_uri": "https://localhost:8080/",
          "height": 34
        },
        "outputId": "f6592eff-a0e2-4e92-afee-fad466995468"
      },
      "source": [
        "df2.shape"
      ],
      "execution_count": 162,
      "outputs": [
        {
          "output_type": "execute_result",
          "data": {
            "text/plain": [
              "(1037336, 5)"
            ]
          },
          "metadata": {
            "tags": []
          },
          "execution_count": 162
        }
      ]
    },
    {
      "cell_type": "code",
      "metadata": {
        "id": "k4C0zW1k9KAZ",
        "colab_type": "code",
        "colab": {
          "base_uri": "https://localhost:8080/",
          "height": 119
        },
        "outputId": "5a91522d-62ff-4d57-e223-68dd9242d913"
      },
      "source": [
        "colnames = df2.columns.to_list()\n",
        "print(type(colnames))\n",
        "for i in colnames:\n",
        "  print (i)"
      ],
      "execution_count": 163,
      "outputs": [
        {
          "output_type": "stream",
          "text": [
            "<class 'list'>\n",
            "Product_Code\n",
            "Warehouse\n",
            "Product_Category\n",
            "Date\n",
            "Order_Demand\n"
          ],
          "name": "stdout"
        }
      ]
    },
    {
      "cell_type": "code",
      "metadata": {
        "id": "ljH5YD1g-e2Q",
        "colab_type": "code",
        "colab": {
          "base_uri": "https://localhost:8080/",
          "height": 71
        },
        "outputId": "54395831-0744-46e9-ec69-061ebe5af6c6"
      },
      "source": [
        "#print (pd.unique(df2['Product_Category']))\n",
        "prod_categ = list(pd.unique(df2['Product_Category']))\n",
        "print(type(prod_categ))\n",
        "print(prod_categ)"
      ],
      "execution_count": 164,
      "outputs": [
        {
          "output_type": "stream",
          "text": [
            "<class 'list'>\n",
            "['Category_006', 'Category_003', 'Category_019', 'Category_001', 'Category_023', 'Category_011', 'Category_007', 'Category_028', 'Category_009', 'Category_021', 'Category_004', 'Category_015', 'Category_024', 'Category_030', 'Category_026', 'Category_018', 'Category_032', 'Category_020', 'Category_013', 'Category_005', 'Category_022', 'Category_031', 'Category_010', 'Category_033', 'Category_017', 'Category_008', 'Category_029', 'Category_025', 'Category_012', 'Category_014', 'Category_002', 'Category_027', 'Category_016']\n"
          ],
          "name": "stdout"
        }
      ]
    },
    {
      "cell_type": "code",
      "metadata": {
        "id": "AgvM2lCujsJF",
        "colab_type": "code",
        "colab": {
          "base_uri": "https://localhost:8080/",
          "height": 476
        },
        "outputId": "b47127fa-a39e-40c0-db7f-dffbc6505a28"
      },
      "source": [
        "print (df2.head)\n",
        "print (df2.info())"
      ],
      "execution_count": 165,
      "outputs": [
        {
          "output_type": "stream",
          "text": [
            "<bound method NDFrame.head of          Product_Code Warehouse Product_Category       Date  Order_Demand\n",
            "0        Product_0965    Whse_A     Category_006 2011-01-08             2\n",
            "1        Product_1724    Whse_A     Category_003 2011-05-31           108\n",
            "2        Product_1521    Whse_S     Category_019 2011-06-24         85000\n",
            "3        Product_1521    Whse_S     Category_019 2011-06-24          7000\n",
            "4        Product_1507    Whse_C     Category_019 2011-09-02          1250\n",
            "...               ...       ...              ...        ...           ...\n",
            "1037331  Product_1954    Whse_J     Category_001 2017-01-06             3\n",
            "1037332  Product_1710    Whse_J     Category_026 2017-01-06            15\n",
            "1037333  Product_1904    Whse_C     Category_019 2017-01-09          4000\n",
            "1037334  Product_0250    Whse_C     Category_007 2017-01-09           148\n",
            "1037335  Product_0471    Whse_C     Category_015 2017-01-09            30\n",
            "\n",
            "[1037336 rows x 5 columns]>\n",
            "<class 'pandas.core.frame.DataFrame'>\n",
            "RangeIndex: 1037336 entries, 0 to 1037335\n",
            "Data columns (total 5 columns):\n",
            " #   Column            Non-Null Count    Dtype         \n",
            "---  ------            --------------    -----         \n",
            " 0   Product_Code      1037336 non-null  object        \n",
            " 1   Warehouse         1037336 non-null  object        \n",
            " 2   Product_Category  1037336 non-null  object        \n",
            " 3   Date              1037336 non-null  datetime64[ns]\n",
            " 4   Order_Demand      1037336 non-null  int64         \n",
            "dtypes: datetime64[ns](1), int64(1), object(3)\n",
            "memory usage: 39.6+ MB\n",
            "None\n"
          ],
          "name": "stdout"
        }
      ]
    },
    {
      "cell_type": "code",
      "metadata": {
        "id": "mK1F3lIIDWea",
        "colab_type": "code",
        "colab": {
          "base_uri": "https://localhost:8080/",
          "height": 51
        },
        "outputId": "3e320b5e-4fe5-433b-9e83-4b07c619fd15"
      },
      "source": [
        "start_date = df2['Date'].min()\n",
        "end_date = df2['Date'].max()\n",
        "print (start_date,end_date)\n",
        "print (type(start_date),type(end_date))"
      ],
      "execution_count": 166,
      "outputs": [
        {
          "output_type": "stream",
          "text": [
            "2011-01-08 00:00:00 2017-01-09 00:00:00\n",
            "<class 'pandas._libs.tslibs.timestamps.Timestamp'> <class 'pandas._libs.tslibs.timestamps.Timestamp'>\n"
          ],
          "name": "stdout"
        }
      ]
    },
    {
      "cell_type": "code",
      "metadata": {
        "id": "vWoiIdUFL3yq",
        "colab_type": "code",
        "colab": {}
      },
      "source": [
        "idx = pd.date_range(start=start_date, end=end_date)"
      ],
      "execution_count": 167,
      "outputs": []
    },
    {
      "cell_type": "code",
      "metadata": {
        "id": "Q4SRO7efOK8a",
        "colab_type": "code",
        "colab": {
          "base_uri": "https://localhost:8080/",
          "height": 51
        },
        "outputId": "145df326-be40-4cbb-efcd-5643b3ec0f42"
      },
      "source": [
        "dtdelta = end_date-start_date\n",
        "nrows = dtdelta.days\n",
        "print (type(nrows))\n",
        "ncols = len (prod_categ)\n",
        "print(nrows,ncols)"
      ],
      "execution_count": 168,
      "outputs": [
        {
          "output_type": "stream",
          "text": [
            "<class 'int'>\n",
            "2193 33\n"
          ],
          "name": "stdout"
        }
      ]
    },
    {
      "cell_type": "code",
      "metadata": {
        "id": "ZuhF3ZSZMGDA",
        "colab_type": "code",
        "colab": {
          "base_uri": "https://localhost:8080/",
          "height": 255
        },
        "outputId": "0c4673e3-00aa-4b7d-bbd4-07e90f263035"
      },
      "source": [
        "dfnew = pd.DataFrame(np.zeros((nrows+1,ncols),dtype=int),index=idx, columns=prod_categ)\n",
        "dfnew.head"
      ],
      "execution_count": 169,
      "outputs": [
        {
          "output_type": "execute_result",
          "data": {
            "text/plain": [
              "<bound method NDFrame.head of             Category_006  Category_003  ...  Category_027  Category_016\n",
              "2011-01-08             0             0  ...             0             0\n",
              "2011-01-09             0             0  ...             0             0\n",
              "2011-01-10             0             0  ...             0             0\n",
              "2011-01-11             0             0  ...             0             0\n",
              "2011-01-12             0             0  ...             0             0\n",
              "...                  ...           ...  ...           ...           ...\n",
              "2017-01-05             0             0  ...             0             0\n",
              "2017-01-06             0             0  ...             0             0\n",
              "2017-01-07             0             0  ...             0             0\n",
              "2017-01-08             0             0  ...             0             0\n",
              "2017-01-09             0             0  ...             0             0\n",
              "\n",
              "[2194 rows x 33 columns]>"
            ]
          },
          "metadata": {
            "tags": []
          },
          "execution_count": 169
        }
      ]
    },
    {
      "cell_type": "code",
      "metadata": {
        "id": "Na-p65VTpuIN",
        "colab_type": "code",
        "colab": {
          "base_uri": "https://localhost:8080/",
          "height": 238
        },
        "outputId": "24339848-bc8c-4516-ea2b-b1678a23deee"
      },
      "source": [
        "import datetime\n",
        "cat_idx = colnames.index('Product_Category')\n",
        "dt_idx = colnames.index('Date')\n",
        "value_idx = colnames.index('Order_Demand')\n",
        "print(cat_idx)\n",
        "df2.info()"
      ],
      "execution_count": 170,
      "outputs": [
        {
          "output_type": "stream",
          "text": [
            "2\n",
            "<class 'pandas.core.frame.DataFrame'>\n",
            "RangeIndex: 1037336 entries, 0 to 1037335\n",
            "Data columns (total 5 columns):\n",
            " #   Column            Non-Null Count    Dtype         \n",
            "---  ------            --------------    -----         \n",
            " 0   Product_Code      1037336 non-null  object        \n",
            " 1   Warehouse         1037336 non-null  object        \n",
            " 2   Product_Category  1037336 non-null  object        \n",
            " 3   Date              1037336 non-null  datetime64[ns]\n",
            " 4   Order_Demand      1037336 non-null  int64         \n",
            "dtypes: datetime64[ns](1), int64(1), object(3)\n",
            "memory usage: 39.6+ MB\n"
          ],
          "name": "stdout"
        }
      ]
    },
    {
      "cell_type": "code",
      "metadata": {
        "id": "sYLXfzDNrgVV",
        "colab_type": "code",
        "colab": {
          "base_uri": "https://localhost:8080/",
          "height": 272
        },
        "outputId": "04ca8a41-f3f3-42d1-f108-33e4affdeaa7"
      },
      "source": [
        "print (dfnew.head)\n",
        "print (type(dfnew.index[1]))"
      ],
      "execution_count": 171,
      "outputs": [
        {
          "output_type": "stream",
          "text": [
            "<bound method NDFrame.head of             Category_006  Category_003  ...  Category_027  Category_016\n",
            "2011-01-08             0             0  ...             0             0\n",
            "2011-01-09             0             0  ...             0             0\n",
            "2011-01-10             0             0  ...             0             0\n",
            "2011-01-11             0             0  ...             0             0\n",
            "2011-01-12             0             0  ...             0             0\n",
            "...                  ...           ...  ...           ...           ...\n",
            "2017-01-05             0             0  ...             0             0\n",
            "2017-01-06             0             0  ...             0             0\n",
            "2017-01-07             0             0  ...             0             0\n",
            "2017-01-08             0             0  ...             0             0\n",
            "2017-01-09             0             0  ...             0             0\n",
            "\n",
            "[2194 rows x 33 columns]>\n",
            "<class 'pandas._libs.tslibs.timestamps.Timestamp'>\n"
          ],
          "name": "stdout"
        }
      ]
    },
    {
      "cell_type": "code",
      "metadata": {
        "id": "ad1P8Kc5qaDs",
        "colab_type": "code",
        "colab": {
          "base_uri": "https://localhost:8080/",
          "height": 100,
          "referenced_widgets": [
            "252c3a58634140c5b578af4c510556da",
            "6e80301b69ab4aa5a3d19d3bf750e14a",
            "dc2ab7fd5778489599ac42f764622a40",
            "ffaca8214fff4851a205c1f458ace057",
            "456a547976344c08b39304b4a298ae5b",
            "f4f68784b1e9430782144147cbadbca3",
            "a7c0c2143bc448ad88a930dc291fdf25",
            "2211e721b3924019a149f6b2d11d6c66"
          ]
        },
        "outputId": "f239a152-5f4b-456f-9cff-c8fdeb5402e6"
      },
      "source": [
        "from tqdm.notebook import tqdm\n",
        "nr = df2.shape[0]\n",
        "rng = list(range(nr))\n",
        "print(nr)\n",
        "for n in tqdm(rng):\n",
        "  #df2['Date'] = pd.to_datetime(df2['Date']).dt.date\n",
        "  #act_date = datetime.datetime.strptime(df2.iloc[n,dt_idx], '%Y-%m-%d').date()\n",
        "  act_date = df2.iloc[n,dt_idx]\n",
        "  #print(act_date)\n",
        "  act_cat = df2.iloc[n,cat_idx]\n",
        "  #print(act_cat)\n",
        "  act_value = int(df2.iloc[n,value_idx])\n",
        "  #print(act_value)\n",
        "  #print (n)\n",
        "  #print(dfnew.loc[act_date,act_cat])\n",
        "  dfnew.loc[act_date,act_cat] += act_value\n",
        "  #print(dfnew.loc[act_date,act_cat])\n",
        "print('i am done')"
      ],
      "execution_count": 172,
      "outputs": [
        {
          "output_type": "stream",
          "text": [
            "1037336\n"
          ],
          "name": "stdout"
        },
        {
          "output_type": "display_data",
          "data": {
            "application/vnd.jupyter.widget-view+json": {
              "model_id": "252c3a58634140c5b578af4c510556da",
              "version_minor": 0,
              "version_major": 2
            },
            "text/plain": [
              "HBox(children=(FloatProgress(value=0.0, max=1037336.0), HTML(value='')))"
            ]
          },
          "metadata": {
            "tags": []
          }
        },
        {
          "output_type": "stream",
          "text": [
            "\n",
            "i am done\n"
          ],
          "name": "stdout"
        }
      ]
    },
    {
      "cell_type": "code",
      "metadata": {
        "id": "g2ewUsWFSdAn",
        "colab_type": "code",
        "colab": {
          "base_uri": "https://localhost:8080/",
          "height": 34
        },
        "outputId": "b5c733ab-229f-445a-a6b1-98d4f2fb383d"
      },
      "source": [
        "print (dfnew.values.sum())"
      ],
      "execution_count": 173,
      "outputs": [
        {
          "output_type": "stream",
          "text": [
            "5103852231\n"
          ],
          "name": "stdout"
        }
      ]
    },
    {
      "cell_type": "code",
      "metadata": {
        "id": "ND-VEcjO8szV",
        "colab_type": "code",
        "colab": {
          "base_uri": "https://localhost:8080/",
          "height": 255
        },
        "outputId": "00b2c35e-e5de-48d7-9e71-77e5ece2f0ac"
      },
      "source": [
        "print (df2.head)\n"
      ],
      "execution_count": 174,
      "outputs": [
        {
          "output_type": "stream",
          "text": [
            "<bound method NDFrame.head of          Product_Code Warehouse Product_Category       Date  Order_Demand\n",
            "0        Product_0965    Whse_A     Category_006 2011-01-08             2\n",
            "1        Product_1724    Whse_A     Category_003 2011-05-31           108\n",
            "2        Product_1521    Whse_S     Category_019 2011-06-24         85000\n",
            "3        Product_1521    Whse_S     Category_019 2011-06-24          7000\n",
            "4        Product_1507    Whse_C     Category_019 2011-09-02          1250\n",
            "...               ...       ...              ...        ...           ...\n",
            "1037331  Product_1954    Whse_J     Category_001 2017-01-06             3\n",
            "1037332  Product_1710    Whse_J     Category_026 2017-01-06            15\n",
            "1037333  Product_1904    Whse_C     Category_019 2017-01-09          4000\n",
            "1037334  Product_0250    Whse_C     Category_007 2017-01-09           148\n",
            "1037335  Product_0471    Whse_C     Category_015 2017-01-09            30\n",
            "\n",
            "[1037336 rows x 5 columns]>\n"
          ],
          "name": "stdout"
        }
      ]
    },
    {
      "cell_type": "code",
      "metadata": {
        "id": "STGtCtbu8EHH",
        "colab_type": "code",
        "colab": {
          "base_uri": "https://localhost:8080/",
          "height": 34
        },
        "outputId": "1d373083-6466-41ee-bb3b-446901e00e46"
      },
      "source": [
        "print (df2['Order_Demand'].values.sum())\n"
      ],
      "execution_count": 175,
      "outputs": [
        {
          "output_type": "stream",
          "text": [
            "5103852231\n"
          ],
          "name": "stdout"
        }
      ]
    },
    {
      "cell_type": "code",
      "metadata": {
        "id": "J6bNKw3A_4hf",
        "colab_type": "code",
        "colab": {
          "base_uri": "https://localhost:8080/",
          "height": 255
        },
        "outputId": "6904ceab-8ad7-4e53-ff99-80716c0c4d07"
      },
      "source": [
        "print(df2.head)\n"
      ],
      "execution_count": 176,
      "outputs": [
        {
          "output_type": "stream",
          "text": [
            "<bound method NDFrame.head of          Product_Code Warehouse Product_Category       Date  Order_Demand\n",
            "0        Product_0965    Whse_A     Category_006 2011-01-08             2\n",
            "1        Product_1724    Whse_A     Category_003 2011-05-31           108\n",
            "2        Product_1521    Whse_S     Category_019 2011-06-24         85000\n",
            "3        Product_1521    Whse_S     Category_019 2011-06-24          7000\n",
            "4        Product_1507    Whse_C     Category_019 2011-09-02          1250\n",
            "...               ...       ...              ...        ...           ...\n",
            "1037331  Product_1954    Whse_J     Category_001 2017-01-06             3\n",
            "1037332  Product_1710    Whse_J     Category_026 2017-01-06            15\n",
            "1037333  Product_1904    Whse_C     Category_019 2017-01-09          4000\n",
            "1037334  Product_0250    Whse_C     Category_007 2017-01-09           148\n",
            "1037335  Product_0471    Whse_C     Category_015 2017-01-09            30\n",
            "\n",
            "[1037336 rows x 5 columns]>\n"
          ],
          "name": "stdout"
        }
      ]
    },
    {
      "cell_type": "code",
      "metadata": {
        "id": "0NeSlEjY-3v4",
        "colab_type": "code",
        "colab": {
          "base_uri": "https://localhost:8080/",
          "height": 255
        },
        "outputId": "0f916b3e-e001-4817-d4bd-c7e1d92e1882"
      },
      "source": [
        "dfnew['inx']=dfnew.index\n",
        "print(dfnew.head)"
      ],
      "execution_count": 177,
      "outputs": [
        {
          "output_type": "stream",
          "text": [
            "<bound method NDFrame.head of             Category_006  Category_003  ...  Category_016        inx\n",
            "2011-01-08             2             0  ...             0 2011-01-08\n",
            "2011-01-09             0             0  ...             0 2011-01-09\n",
            "2011-01-10             0             0  ...             0 2011-01-10\n",
            "2011-01-11             0             0  ...             0 2011-01-11\n",
            "2011-01-12             0             0  ...             0 2011-01-12\n",
            "...                  ...           ...  ...           ...        ...\n",
            "2017-01-05         60000             0  ...             0 2017-01-05\n",
            "2017-01-06             0             0  ...             0 2017-01-06\n",
            "2017-01-07             0             0  ...             0 2017-01-07\n",
            "2017-01-08             0             0  ...             0 2017-01-08\n",
            "2017-01-09             0             0  ...             0 2017-01-09\n",
            "\n",
            "[2194 rows x 34 columns]>\n"
          ],
          "name": "stdout"
        }
      ]
    },
    {
      "cell_type": "code",
      "metadata": {
        "id": "2rb5kfIFO723",
        "colab_type": "code",
        "colab": {
          "base_uri": "https://localhost:8080/",
          "height": 255
        },
        "outputId": "e5db50e0-cba2-4fdc-fc93-21b531fd0a35"
      },
      "source": [
        "ts=dfnew[['inx']].copy()\n",
        "print(ts.head)\n"
      ],
      "execution_count": 273,
      "outputs": [
        {
          "output_type": "stream",
          "text": [
            "<bound method NDFrame.head of                   inx\n",
            "2011-01-08 2011-01-08\n",
            "2011-01-09 2011-01-09\n",
            "2011-01-10 2011-01-10\n",
            "2011-01-11 2011-01-11\n",
            "2011-01-12 2011-01-12\n",
            "...               ...\n",
            "2017-01-05 2017-01-05\n",
            "2017-01-06 2017-01-06\n",
            "2017-01-07 2017-01-07\n",
            "2017-01-08 2017-01-08\n",
            "2017-01-09 2017-01-09\n",
            "\n",
            "[2194 rows x 1 columns]>\n"
          ],
          "name": "stdout"
        }
      ]
    },
    {
      "cell_type": "code",
      "metadata": {
        "id": "QMxaqCy2_jdq",
        "colab_type": "code",
        "colab": {
          "base_uri": "https://localhost:8080/",
          "height": 215
        },
        "outputId": "1efc2fce-85ee-4a97-c328-399285fcd2f2"
      },
      "source": [
        "import matplotlib.pyplot as plt\n",
        "dfnew[idx>'01-01-2012'].plot(kind='line',x='inx',y='Category_006',color='red',figsize=(18,3))\n",
        "#dfnew[idx>'01-01-2012'].plot(kind='line',x='inx',y='Category_006',color='red',figsize=(18,3))\n",
        "plt.show()"
      ],
      "execution_count": 275,
      "outputs": [
        {
          "output_type": "error",
          "ename": "TypeError",
          "evalue": "ignored",
          "traceback": [
            "\u001b[0;31m---------------------------------------------------------------------------\u001b[0m",
            "\u001b[0;31mTypeError\u001b[0m                                 Traceback (most recent call last)",
            "\u001b[0;32m<ipython-input-275-7559d74ee8fb>\u001b[0m in \u001b[0;36m<module>\u001b[0;34m()\u001b[0m\n\u001b[1;32m      1\u001b[0m \u001b[0;32mimport\u001b[0m \u001b[0mmatplotlib\u001b[0m\u001b[0;34m.\u001b[0m\u001b[0mpyplot\u001b[0m \u001b[0;32mas\u001b[0m \u001b[0mplt\u001b[0m\u001b[0;34m\u001b[0m\u001b[0;34m\u001b[0m\u001b[0m\n\u001b[0;32m----> 2\u001b[0;31m \u001b[0mdfnew\u001b[0m\u001b[0;34m[\u001b[0m\u001b[0midx\u001b[0m\u001b[0;34m>\u001b[0m\u001b[0;34m'01-01-2012'\u001b[0m\u001b[0;34m]\u001b[0m\u001b[0;34m.\u001b[0m\u001b[0mplot\u001b[0m\u001b[0;34m(\u001b[0m\u001b[0mkind\u001b[0m\u001b[0;34m=\u001b[0m\u001b[0;34m'line'\u001b[0m\u001b[0;34m,\u001b[0m\u001b[0mx\u001b[0m\u001b[0;34m=\u001b[0m\u001b[0;34m'inx'\u001b[0m\u001b[0;34m,\u001b[0m\u001b[0my\u001b[0m\u001b[0;34m=\u001b[0m\u001b[0;34m'Category_006'\u001b[0m\u001b[0;34m,\u001b[0m\u001b[0mcolor\u001b[0m\u001b[0;34m=\u001b[0m\u001b[0;34m'red'\u001b[0m\u001b[0;34m,\u001b[0m\u001b[0mfigsize\u001b[0m\u001b[0;34m=\u001b[0m\u001b[0;34m(\u001b[0m\u001b[0;36m18\u001b[0m\u001b[0;34m,\u001b[0m\u001b[0;36m3\u001b[0m\u001b[0;34m)\u001b[0m\u001b[0;34m)\u001b[0m\u001b[0;34m\u001b[0m\u001b[0;34m\u001b[0m\u001b[0m\n\u001b[0m\u001b[1;32m      3\u001b[0m \u001b[0;31m#dfnew[idx>'01-01-2012'].plot(kind='line',x='inx',y='Category_006',color='red',figsize=(18,3))\u001b[0m\u001b[0;34m\u001b[0m\u001b[0;34m\u001b[0m\u001b[0;34m\u001b[0m\u001b[0m\n\u001b[1;32m      4\u001b[0m \u001b[0mplt\u001b[0m\u001b[0;34m.\u001b[0m\u001b[0mshow\u001b[0m\u001b[0;34m(\u001b[0m\u001b[0;34m)\u001b[0m\u001b[0;34m\u001b[0m\u001b[0;34m\u001b[0m\u001b[0m\n",
            "\u001b[0;31mTypeError\u001b[0m: '>' not supported between instances of 'numpy.ndarray' and 'str'"
          ]
        }
      ]
    },
    {
      "cell_type": "code",
      "metadata": {
        "id": "yZX2xuA9IIN0",
        "colab_type": "code",
        "colab": {
          "base_uri": "https://localhost:8080/",
          "height": 851
        },
        "outputId": "f0dcd42e-74bc-4587-fba5-dad9d1ffe7bb"
      },
      "source": [
        "this_cat= 'Category_006'\n",
        "st_dt = '01-01-2012'\n",
        "dfnewer = dfnew[['inx',this_cat]].copy()\n",
        "dfnewer = dfnewer.loc['01-01-2012'>st_dt]\n",
        "#print (dfnewer.shape)\n",
        "#print (dfnewer.head)\n",
        "narray = dfnewer[this_cat].to_numpy()\n",
        "ndates = dfnewer['inx']\n",
        "print(ndates.shape)\n",
        "#narray"
      ],
      "execution_count": 269,
      "outputs": [
        {
          "output_type": "error",
          "ename": "TypeError",
          "evalue": "ignored",
          "traceback": [
            "\u001b[0;31m---------------------------------------------------------------------------\u001b[0m",
            "\u001b[0;31mKeyError\u001b[0m                                  Traceback (most recent call last)",
            "\u001b[0;32m/usr/local/lib/python3.6/dist-packages/pandas/core/indexes/base.py\u001b[0m in \u001b[0;36mget_loc\u001b[0;34m(self, key, method, tolerance)\u001b[0m\n\u001b[1;32m   2645\u001b[0m             \u001b[0;32mtry\u001b[0m\u001b[0;34m:\u001b[0m\u001b[0;34m\u001b[0m\u001b[0;34m\u001b[0m\u001b[0m\n\u001b[0;32m-> 2646\u001b[0;31m                 \u001b[0;32mreturn\u001b[0m \u001b[0mself\u001b[0m\u001b[0;34m.\u001b[0m\u001b[0m_engine\u001b[0m\u001b[0;34m.\u001b[0m\u001b[0mget_loc\u001b[0m\u001b[0;34m(\u001b[0m\u001b[0mkey\u001b[0m\u001b[0;34m)\u001b[0m\u001b[0;34m\u001b[0m\u001b[0;34m\u001b[0m\u001b[0m\n\u001b[0m\u001b[1;32m   2647\u001b[0m             \u001b[0;32mexcept\u001b[0m \u001b[0mKeyError\u001b[0m\u001b[0;34m:\u001b[0m\u001b[0;34m\u001b[0m\u001b[0;34m\u001b[0m\u001b[0m\n",
            "\u001b[0;32mpandas/_libs/index.pyx\u001b[0m in \u001b[0;36mpandas._libs.index.DatetimeEngine.get_loc\u001b[0;34m()\u001b[0m\n",
            "\u001b[0;32mpandas/_libs/index.pyx\u001b[0m in \u001b[0;36mpandas._libs.index.DatetimeEngine.get_loc\u001b[0;34m()\u001b[0m\n",
            "\u001b[0;32mpandas/_libs/hashtable_class_helper.pxi\u001b[0m in \u001b[0;36mpandas._libs.hashtable.Int64HashTable.get_item\u001b[0;34m()\u001b[0m\n",
            "\u001b[0;32mpandas/_libs/hashtable_class_helper.pxi\u001b[0m in \u001b[0;36mpandas._libs.hashtable.Int64HashTable.get_item\u001b[0;34m()\u001b[0m\n",
            "\u001b[0;31mKeyError\u001b[0m: 0",
            "\nDuring handling of the above exception, another exception occurred:\n",
            "\u001b[0;31mKeyError\u001b[0m                                  Traceback (most recent call last)",
            "\u001b[0;32m/usr/local/lib/python3.6/dist-packages/pandas/core/indexes/datetimes.py\u001b[0m in \u001b[0;36mget_loc\u001b[0;34m(self, key, method, tolerance)\u001b[0m\n\u001b[1;32m    714\u001b[0m         \u001b[0;32mtry\u001b[0m\u001b[0;34m:\u001b[0m\u001b[0;34m\u001b[0m\u001b[0;34m\u001b[0m\u001b[0m\n\u001b[0;32m--> 715\u001b[0;31m             \u001b[0;32mreturn\u001b[0m \u001b[0mIndex\u001b[0m\u001b[0;34m.\u001b[0m\u001b[0mget_loc\u001b[0m\u001b[0;34m(\u001b[0m\u001b[0mself\u001b[0m\u001b[0;34m,\u001b[0m \u001b[0mkey\u001b[0m\u001b[0;34m,\u001b[0m \u001b[0mmethod\u001b[0m\u001b[0;34m,\u001b[0m \u001b[0mtolerance\u001b[0m\u001b[0;34m)\u001b[0m\u001b[0;34m\u001b[0m\u001b[0;34m\u001b[0m\u001b[0m\n\u001b[0m\u001b[1;32m    716\u001b[0m         \u001b[0;32mexcept\u001b[0m \u001b[0;34m(\u001b[0m\u001b[0mKeyError\u001b[0m\u001b[0;34m,\u001b[0m \u001b[0mValueError\u001b[0m\u001b[0;34m,\u001b[0m \u001b[0mTypeError\u001b[0m\u001b[0;34m)\u001b[0m\u001b[0;34m:\u001b[0m\u001b[0;34m\u001b[0m\u001b[0;34m\u001b[0m\u001b[0m\n",
            "\u001b[0;32m/usr/local/lib/python3.6/dist-packages/pandas/core/indexes/base.py\u001b[0m in \u001b[0;36mget_loc\u001b[0;34m(self, key, method, tolerance)\u001b[0m\n\u001b[1;32m   2647\u001b[0m             \u001b[0;32mexcept\u001b[0m \u001b[0mKeyError\u001b[0m\u001b[0;34m:\u001b[0m\u001b[0;34m\u001b[0m\u001b[0;34m\u001b[0m\u001b[0m\n\u001b[0;32m-> 2648\u001b[0;31m                 \u001b[0;32mreturn\u001b[0m \u001b[0mself\u001b[0m\u001b[0;34m.\u001b[0m\u001b[0m_engine\u001b[0m\u001b[0;34m.\u001b[0m\u001b[0mget_loc\u001b[0m\u001b[0;34m(\u001b[0m\u001b[0mself\u001b[0m\u001b[0;34m.\u001b[0m\u001b[0m_maybe_cast_indexer\u001b[0m\u001b[0;34m(\u001b[0m\u001b[0mkey\u001b[0m\u001b[0;34m)\u001b[0m\u001b[0;34m)\u001b[0m\u001b[0;34m\u001b[0m\u001b[0;34m\u001b[0m\u001b[0m\n\u001b[0m\u001b[1;32m   2649\u001b[0m         \u001b[0mindexer\u001b[0m \u001b[0;34m=\u001b[0m \u001b[0mself\u001b[0m\u001b[0;34m.\u001b[0m\u001b[0mget_indexer\u001b[0m\u001b[0;34m(\u001b[0m\u001b[0;34m[\u001b[0m\u001b[0mkey\u001b[0m\u001b[0;34m]\u001b[0m\u001b[0;34m,\u001b[0m \u001b[0mmethod\u001b[0m\u001b[0;34m=\u001b[0m\u001b[0mmethod\u001b[0m\u001b[0;34m,\u001b[0m \u001b[0mtolerance\u001b[0m\u001b[0;34m=\u001b[0m\u001b[0mtolerance\u001b[0m\u001b[0;34m)\u001b[0m\u001b[0;34m\u001b[0m\u001b[0;34m\u001b[0m\u001b[0m\n",
            "\u001b[0;32mpandas/_libs/index.pyx\u001b[0m in \u001b[0;36mpandas._libs.index.DatetimeEngine.get_loc\u001b[0;34m()\u001b[0m\n",
            "\u001b[0;32mpandas/_libs/index.pyx\u001b[0m in \u001b[0;36mpandas._libs.index.DatetimeEngine.get_loc\u001b[0;34m()\u001b[0m\n",
            "\u001b[0;32mpandas/_libs/hashtable_class_helper.pxi\u001b[0m in \u001b[0;36mpandas._libs.hashtable.Int64HashTable.get_item\u001b[0;34m()\u001b[0m\n",
            "\u001b[0;32mpandas/_libs/hashtable_class_helper.pxi\u001b[0m in \u001b[0;36mpandas._libs.hashtable.Int64HashTable.get_item\u001b[0;34m()\u001b[0m\n",
            "\u001b[0;31mKeyError\u001b[0m: 0",
            "\nDuring handling of the above exception, another exception occurred:\n",
            "\u001b[0;31mTypeError\u001b[0m                                 Traceback (most recent call last)",
            "\u001b[0;32m<ipython-input-269-5c11c07e04e0>\u001b[0m in \u001b[0;36m<module>\u001b[0;34m()\u001b[0m\n\u001b[1;32m      2\u001b[0m \u001b[0mst_dt\u001b[0m \u001b[0;34m=\u001b[0m \u001b[0;34m'01-01-2012'\u001b[0m\u001b[0;34m\u001b[0m\u001b[0;34m\u001b[0m\u001b[0m\n\u001b[1;32m      3\u001b[0m \u001b[0mdfnewer\u001b[0m \u001b[0;34m=\u001b[0m \u001b[0mdfnew\u001b[0m\u001b[0;34m[\u001b[0m\u001b[0;34m[\u001b[0m\u001b[0;34m'inx'\u001b[0m\u001b[0;34m,\u001b[0m\u001b[0mthis_cat\u001b[0m\u001b[0;34m]\u001b[0m\u001b[0;34m]\u001b[0m\u001b[0;34m.\u001b[0m\u001b[0mcopy\u001b[0m\u001b[0;34m(\u001b[0m\u001b[0;34m)\u001b[0m\u001b[0;34m\u001b[0m\u001b[0;34m\u001b[0m\u001b[0m\n\u001b[0;32m----> 4\u001b[0;31m \u001b[0mdfnewer\u001b[0m \u001b[0;34m=\u001b[0m \u001b[0mdfnewer\u001b[0m\u001b[0;34m.\u001b[0m\u001b[0mloc\u001b[0m\u001b[0;34m[\u001b[0m\u001b[0;34m'01-01-2012'\u001b[0m\u001b[0;34m>\u001b[0m\u001b[0mst_dt\u001b[0m\u001b[0;34m]\u001b[0m\u001b[0;34m\u001b[0m\u001b[0;34m\u001b[0m\u001b[0m\n\u001b[0m\u001b[1;32m      5\u001b[0m \u001b[0;31m#print (dfnewer.shape)\u001b[0m\u001b[0;34m\u001b[0m\u001b[0;34m\u001b[0m\u001b[0;34m\u001b[0m\u001b[0m\n\u001b[1;32m      6\u001b[0m \u001b[0;31m#print (dfnewer.head)\u001b[0m\u001b[0;34m\u001b[0m\u001b[0;34m\u001b[0m\u001b[0;34m\u001b[0m\u001b[0m\n",
            "\u001b[0;32m/usr/local/lib/python3.6/dist-packages/pandas/core/indexing.py\u001b[0m in \u001b[0;36m__getitem__\u001b[0;34m(self, key)\u001b[0m\n\u001b[1;32m   1766\u001b[0m \u001b[0;34m\u001b[0m\u001b[0m\n\u001b[1;32m   1767\u001b[0m             \u001b[0mmaybe_callable\u001b[0m \u001b[0;34m=\u001b[0m \u001b[0mcom\u001b[0m\u001b[0;34m.\u001b[0m\u001b[0mapply_if_callable\u001b[0m\u001b[0;34m(\u001b[0m\u001b[0mkey\u001b[0m\u001b[0;34m,\u001b[0m \u001b[0mself\u001b[0m\u001b[0;34m.\u001b[0m\u001b[0mobj\u001b[0m\u001b[0;34m)\u001b[0m\u001b[0;34m\u001b[0m\u001b[0;34m\u001b[0m\u001b[0m\n\u001b[0;32m-> 1768\u001b[0;31m             \u001b[0;32mreturn\u001b[0m \u001b[0mself\u001b[0m\u001b[0;34m.\u001b[0m\u001b[0m_getitem_axis\u001b[0m\u001b[0;34m(\u001b[0m\u001b[0mmaybe_callable\u001b[0m\u001b[0;34m,\u001b[0m \u001b[0maxis\u001b[0m\u001b[0;34m=\u001b[0m\u001b[0maxis\u001b[0m\u001b[0;34m)\u001b[0m\u001b[0;34m\u001b[0m\u001b[0;34m\u001b[0m\u001b[0m\n\u001b[0m\u001b[1;32m   1769\u001b[0m \u001b[0;34m\u001b[0m\u001b[0m\n\u001b[1;32m   1770\u001b[0m     \u001b[0;32mdef\u001b[0m \u001b[0m_is_scalar_access\u001b[0m\u001b[0;34m(\u001b[0m\u001b[0mself\u001b[0m\u001b[0;34m,\u001b[0m \u001b[0mkey\u001b[0m\u001b[0;34m:\u001b[0m \u001b[0mTuple\u001b[0m\u001b[0;34m)\u001b[0m\u001b[0;34m:\u001b[0m\u001b[0;34m\u001b[0m\u001b[0;34m\u001b[0m\u001b[0m\n",
            "\u001b[0;32m/usr/local/lib/python3.6/dist-packages/pandas/core/indexing.py\u001b[0m in \u001b[0;36m_getitem_axis\u001b[0;34m(self, key, axis)\u001b[0m\n\u001b[1;32m   1963\u001b[0m         \u001b[0;31m# fall thru to straight lookup\u001b[0m\u001b[0;34m\u001b[0m\u001b[0;34m\u001b[0m\u001b[0;34m\u001b[0m\u001b[0m\n\u001b[1;32m   1964\u001b[0m         \u001b[0mself\u001b[0m\u001b[0;34m.\u001b[0m\u001b[0m_validate_key\u001b[0m\u001b[0;34m(\u001b[0m\u001b[0mkey\u001b[0m\u001b[0;34m,\u001b[0m \u001b[0maxis\u001b[0m\u001b[0;34m)\u001b[0m\u001b[0;34m\u001b[0m\u001b[0;34m\u001b[0m\u001b[0m\n\u001b[0;32m-> 1965\u001b[0;31m         \u001b[0;32mreturn\u001b[0m \u001b[0mself\u001b[0m\u001b[0;34m.\u001b[0m\u001b[0m_get_label\u001b[0m\u001b[0;34m(\u001b[0m\u001b[0mkey\u001b[0m\u001b[0;34m,\u001b[0m \u001b[0maxis\u001b[0m\u001b[0;34m=\u001b[0m\u001b[0maxis\u001b[0m\u001b[0;34m)\u001b[0m\u001b[0;34m\u001b[0m\u001b[0;34m\u001b[0m\u001b[0m\n\u001b[0m\u001b[1;32m   1966\u001b[0m \u001b[0;34m\u001b[0m\u001b[0m\n\u001b[1;32m   1967\u001b[0m \u001b[0;34m\u001b[0m\u001b[0m\n",
            "\u001b[0;32m/usr/local/lib/python3.6/dist-packages/pandas/core/indexing.py\u001b[0m in \u001b[0;36m_get_label\u001b[0;34m(self, label, axis)\u001b[0m\n\u001b[1;32m    623\u001b[0m             \u001b[0;32mraise\u001b[0m \u001b[0mIndexingError\u001b[0m\u001b[0;34m(\u001b[0m\u001b[0;34m\"no slices here, handle elsewhere\"\u001b[0m\u001b[0;34m)\u001b[0m\u001b[0;34m\u001b[0m\u001b[0;34m\u001b[0m\u001b[0m\n\u001b[1;32m    624\u001b[0m \u001b[0;34m\u001b[0m\u001b[0m\n\u001b[0;32m--> 625\u001b[0;31m         \u001b[0;32mreturn\u001b[0m \u001b[0mself\u001b[0m\u001b[0;34m.\u001b[0m\u001b[0mobj\u001b[0m\u001b[0;34m.\u001b[0m\u001b[0m_xs\u001b[0m\u001b[0;34m(\u001b[0m\u001b[0mlabel\u001b[0m\u001b[0;34m,\u001b[0m \u001b[0maxis\u001b[0m\u001b[0;34m=\u001b[0m\u001b[0maxis\u001b[0m\u001b[0;34m)\u001b[0m\u001b[0;34m\u001b[0m\u001b[0;34m\u001b[0m\u001b[0m\n\u001b[0m\u001b[1;32m    626\u001b[0m \u001b[0;34m\u001b[0m\u001b[0m\n\u001b[1;32m    627\u001b[0m     \u001b[0;32mdef\u001b[0m \u001b[0m_get_loc\u001b[0m\u001b[0;34m(\u001b[0m\u001b[0mself\u001b[0m\u001b[0;34m,\u001b[0m \u001b[0mkey\u001b[0m\u001b[0;34m:\u001b[0m \u001b[0mint\u001b[0m\u001b[0;34m,\u001b[0m \u001b[0maxis\u001b[0m\u001b[0;34m:\u001b[0m \u001b[0mint\u001b[0m\u001b[0;34m)\u001b[0m\u001b[0;34m:\u001b[0m\u001b[0;34m\u001b[0m\u001b[0;34m\u001b[0m\u001b[0m\n",
            "\u001b[0;32m/usr/local/lib/python3.6/dist-packages/pandas/core/generic.py\u001b[0m in \u001b[0;36mxs\u001b[0;34m(self, key, axis, level, drop_level)\u001b[0m\n\u001b[1;32m   3535\u001b[0m             \u001b[0mloc\u001b[0m\u001b[0;34m,\u001b[0m \u001b[0mnew_index\u001b[0m \u001b[0;34m=\u001b[0m \u001b[0mself\u001b[0m\u001b[0;34m.\u001b[0m\u001b[0mindex\u001b[0m\u001b[0;34m.\u001b[0m\u001b[0mget_loc_level\u001b[0m\u001b[0;34m(\u001b[0m\u001b[0mkey\u001b[0m\u001b[0;34m,\u001b[0m \u001b[0mdrop_level\u001b[0m\u001b[0;34m=\u001b[0m\u001b[0mdrop_level\u001b[0m\u001b[0;34m)\u001b[0m\u001b[0;34m\u001b[0m\u001b[0;34m\u001b[0m\u001b[0m\n\u001b[1;32m   3536\u001b[0m         \u001b[0;32melse\u001b[0m\u001b[0;34m:\u001b[0m\u001b[0;34m\u001b[0m\u001b[0;34m\u001b[0m\u001b[0m\n\u001b[0;32m-> 3537\u001b[0;31m             \u001b[0mloc\u001b[0m \u001b[0;34m=\u001b[0m \u001b[0mself\u001b[0m\u001b[0;34m.\u001b[0m\u001b[0mindex\u001b[0m\u001b[0;34m.\u001b[0m\u001b[0mget_loc\u001b[0m\u001b[0;34m(\u001b[0m\u001b[0mkey\u001b[0m\u001b[0;34m)\u001b[0m\u001b[0;34m\u001b[0m\u001b[0;34m\u001b[0m\u001b[0m\n\u001b[0m\u001b[1;32m   3538\u001b[0m \u001b[0;34m\u001b[0m\u001b[0m\n\u001b[1;32m   3539\u001b[0m             \u001b[0;32mif\u001b[0m \u001b[0misinstance\u001b[0m\u001b[0;34m(\u001b[0m\u001b[0mloc\u001b[0m\u001b[0;34m,\u001b[0m \u001b[0mnp\u001b[0m\u001b[0;34m.\u001b[0m\u001b[0mndarray\u001b[0m\u001b[0;34m)\u001b[0m\u001b[0;34m:\u001b[0m\u001b[0;34m\u001b[0m\u001b[0;34m\u001b[0m\u001b[0m\n",
            "\u001b[0;32m/usr/local/lib/python3.6/dist-packages/pandas/core/indexes/datetimes.py\u001b[0m in \u001b[0;36mget_loc\u001b[0;34m(self, key, method, tolerance)\u001b[0m\n\u001b[1;32m    721\u001b[0m \u001b[0;34m\u001b[0m\u001b[0m\n\u001b[1;32m    722\u001b[0m             \u001b[0;32mtry\u001b[0m\u001b[0;34m:\u001b[0m\u001b[0;34m\u001b[0m\u001b[0;34m\u001b[0m\u001b[0m\n\u001b[0;32m--> 723\u001b[0;31m                 \u001b[0mstamp\u001b[0m \u001b[0;34m=\u001b[0m \u001b[0mTimestamp\u001b[0m\u001b[0;34m(\u001b[0m\u001b[0mkey\u001b[0m\u001b[0;34m)\u001b[0m\u001b[0;34m\u001b[0m\u001b[0;34m\u001b[0m\u001b[0m\n\u001b[0m\u001b[1;32m    724\u001b[0m                 \u001b[0;32mif\u001b[0m \u001b[0mstamp\u001b[0m\u001b[0;34m.\u001b[0m\u001b[0mtzinfo\u001b[0m \u001b[0;32mis\u001b[0m \u001b[0;32mnot\u001b[0m \u001b[0;32mNone\u001b[0m \u001b[0;32mand\u001b[0m \u001b[0mself\u001b[0m\u001b[0;34m.\u001b[0m\u001b[0mtz\u001b[0m \u001b[0;32mis\u001b[0m \u001b[0;32mnot\u001b[0m \u001b[0;32mNone\u001b[0m\u001b[0;34m:\u001b[0m\u001b[0;34m\u001b[0m\u001b[0;34m\u001b[0m\u001b[0m\n\u001b[1;32m    725\u001b[0m                     \u001b[0mstamp\u001b[0m \u001b[0;34m=\u001b[0m \u001b[0mstamp\u001b[0m\u001b[0;34m.\u001b[0m\u001b[0mtz_convert\u001b[0m\u001b[0;34m(\u001b[0m\u001b[0mself\u001b[0m\u001b[0;34m.\u001b[0m\u001b[0mtz\u001b[0m\u001b[0;34m)\u001b[0m\u001b[0;34m\u001b[0m\u001b[0;34m\u001b[0m\u001b[0m\n",
            "\u001b[0;32mpandas/_libs/tslibs/timestamps.pyx\u001b[0m in \u001b[0;36mpandas._libs.tslibs.timestamps.Timestamp.__new__\u001b[0;34m()\u001b[0m\n",
            "\u001b[0;32mpandas/_libs/tslibs/conversion.pyx\u001b[0m in \u001b[0;36mpandas._libs.tslibs.conversion.convert_to_tsobject\u001b[0;34m()\u001b[0m\n",
            "\u001b[0;31mTypeError\u001b[0m: Cannot convert input [False] of type <class 'bool'> to Timestamp"
          ]
        }
      ]
    },
    {
      "cell_type": "code",
      "metadata": {
        "id": "c78bzwspBpFd",
        "colab_type": "code",
        "colab": {
          "base_uri": "https://localhost:8080/",
          "height": 316
        },
        "outputId": "df3f2493-8f91-4550-9e7a-daf1044f5500"
      },
      "source": [
        "from scipy.fftpack import fft\n",
        "# Number of samplepoints\n",
        "N = int(1835)\n",
        "# sample spacing\n",
        "T = 1.0 / N\n",
        "#x=np.linspace(0.0, N*T, N)\n",
        "#y = np.sin(50.0 * 2.0*np.pi*x) + 0.5*np.sin(80.0 * 2.0*np.pi*x)\n",
        "yf = fft(narray)\n",
        "xf= int(len(yf)/2)\n",
        "#xf = np.linspace(0.0, 1.0/(2.0*T), HN)\n",
        "import matplotlib.pyplot as plt\n",
        "plt.plot(range(xf),(2.0/N)*yf[0:xf])\n",
        "plt.grid()\n",
        "plt.show()\n",
        "print(np.argmax(yf[6:800]))"
      ],
      "execution_count": 266,
      "outputs": [
        {
          "output_type": "stream",
          "text": [
            "/usr/local/lib/python3.6/dist-packages/numpy/core/_asarray.py:85: ComplexWarning: Casting complex values to real discards the imaginary part\n",
            "  return array(a, dtype, copy=False, order=order)\n"
          ],
          "name": "stderr"
        },
        {
          "output_type": "display_data",
          "data": {
            "image/png": "[encoded data removed]",
            "text/plain": [
              "<Figure size 432x288 with 1 Axes>"
            ]
          },
          "metadata": {
            "tags": [],
            "needs_background": "light"
          }
        },
        {
          "output_type": "stream",
          "text": [
            "191\n"
          ],
          "name": "stdout"
        }
      ]
    },
    {
      "cell_type": "code",
      "metadata": {
        "id": "QzhRDGd_5bRz",
        "colab_type": "code",
        "colab": {
          "base_uri": "https://localhost:8080/",
          "height": 51
        },
        "outputId": "e6017e91-db2d-423d-95f9-75dcbeedaeb5"
      },
      "source": [
        "idx = (-yf).argsort()[:15]\n",
        "print(idx)"
      ],
      "execution_count": 263,
      "outputs": [
        {
          "output_type": "stream",
          "text": [
            "[   0  524 1311    3 1832 1573  262 1048  787 1780   55 1705  130 1654\n",
            "  181]\n"
          ],
          "name": "stdout"
        }
      ]
    },
    {
      "cell_type": "code",
      "metadata": {
        "id": "NkAjPX2KLZO-",
        "colab_type": "code",
        "colab": {
          "base_uri": "https://localhost:8080/",
          "height": 51
        },
        "outputId": "b04513c3-157c-494b-f44b-ed6632e31dee"
      },
      "source": [
        "kept_idx = (len(narray)//rep_int)*rep_int\n",
        "narray = narray [len(narray)-kept_idx:]\n",
        "print (kept_idx)\n",
        "print(narray.shape)"
      ],
      "execution_count": 264,
      "outputs": [
        {
          "output_type": "stream",
          "text": [
            "1376\n",
            "(1376,)\n"
          ],
          "name": "stdout"
        }
      ]
    },
    {
      "cell_type": "markdown",
      "metadata": {
        "id": "VH3aEHyPcKzC",
        "colab_type": "text"
      },
      "source": [
        "Now we will convert the format of our dataset to what gluon-ts requires\n"
      ]
    },
    {
      "cell_type": "code",
      "metadata": {
        "id": "bv3KHc20OT7A",
        "colab_type": "code",
        "colab": {}
      },
      "source": [
        "from gluonts.dataset.common import ListDataset"
      ],
      "execution_count": 68,
      "outputs": []
    },
    {
      "cell_type": "code",
      "metadata": {
        "id": "kpRLhwrocJyO",
        "colab_type": "code",
        "colab": {
          "base_uri": "https://localhost:8080/",
          "height": 255
        },
        "outputId": "f0f686fc-5bd9-434d-8231-f62af1680e5e"
      },
      "source": [
        "from gluonts.dataset.field_names import FieldName\n",
        "[f\"FieldName.{k} = '{v}'\" for k, v in FieldName.__dict__.items() if not k.startswith('_')]\n"
      ],
      "execution_count": 69,
      "outputs": [
        {
          "output_type": "execute_result",
          "data": {
            "text/plain": [
              "[\"FieldName.ITEM_ID = 'item_id'\",\n",
              " \"FieldName.START = 'start'\",\n",
              " \"FieldName.TARGET = 'target'\",\n",
              " \"FieldName.FEAT_STATIC_CAT = 'feat_static_cat'\",\n",
              " \"FieldName.FEAT_STATIC_REAL = 'feat_static_real'\",\n",
              " \"FieldName.FEAT_DYNAMIC_CAT = 'feat_dynamic_cat'\",\n",
              " \"FieldName.FEAT_DYNAMIC_REAL = 'feat_dynamic_real'\",\n",
              " \"FieldName.FEAT_TIME = 'time_feat'\",\n",
              " \"FieldName.FEAT_CONST = 'feat_dynamic_const'\",\n",
              " \"FieldName.FEAT_AGE = 'feat_dynamic_age'\",\n",
              " \"FieldName.OBSERVED_VALUES = 'observed_values'\",\n",
              " \"FieldName.IS_PAD = 'is_pad'\",\n",
              " \"FieldName.FORECAST_START = 'forecast_start'\",\n",
              " \"FieldName.TARGET_DIM_INDICATOR = 'target_dimension_indicator'\"]"
            ]
          },
          "metadata": {
            "tags": []
          },
          "execution_count": 69
        }
      ]
    },
    {
      "cell_type": "code",
      "metadata": {
        "id": "_rmJMC-fdpMU",
        "colab_type": "code",
        "colab": {}
      },
      "source": [
        ""
      ],
      "execution_count": null,
      "outputs": []
    },
    {
      "cell_type": "code",
      "metadata": {
        "id": "0UnnQa2m2oDf",
        "colab_type": "code",
        "colab": {
          "base_uri": "https://localhost:8080/",
          "height": 289
        },
        "outputId": "750380bb-a7cc-4707-a9a8-b0535155c346"
      },
      "source": [
        "\n",
        "n_series = dfnewer.shape[0]//rep_int\n",
        "total_len = rep_int * n_series\n",
        "print(n_series)\n",
        "print(dfnewer.head)\n",
        "start_date = dfnewer['inx'].min()\n",
        "print (n_series)"
      ],
      "execution_count": 54,
      "outputs": [
        {
          "output_type": "stream",
          "text": [
            "6\n",
            "<bound method NDFrame.head of                   inx  Category_006\n",
            "2012-01-02 2012-01-02         13000\n",
            "2012-01-03 2012-01-03         72400\n",
            "2012-01-04 2012-01-04        563000\n",
            "2012-01-05 2012-01-05        843602\n",
            "2012-01-06 2012-01-06        445723\n",
            "...               ...           ...\n",
            "2013-07-08 2013-07-08        803601\n",
            "2013-07-09 2013-07-09        196212\n",
            "2013-07-10 2013-07-10        163503\n",
            "2013-07-11 2013-07-11        221811\n",
            "2013-07-12 2013-07-12        363108\n",
            "\n",
            "[558 rows x 2 columns]>\n",
            "6\n"
          ],
          "name": "stdout"
        }
      ]
    },
    {
      "cell_type": "code",
      "metadata": {
        "id": "GrSsp7L5U-V8",
        "colab_type": "code",
        "colab": {}
      },
      "source": [
        "date_rng = pd.date_range(start=st_dt, periods = total_len , freq='D')"
      ],
      "execution_count": 60,
      "outputs": []
    },
    {
      "cell_type": "code",
      "metadata": {
        "id": "Pe2oIu9DPbkA",
        "colab_type": "code",
        "colab": {}
      },
      "source": [
        "#sample['PR'] = sample['PR'].apply(lambda x: 'NaN' if x < 90 else x) \n",
        "#pd.Timestamp(\"01-01-2019\", freq='1H')\n",
        "ts['inx'] = ts['inx'].apply(lambda x: pd.Timestamp(x, freq='1D'))"
      ],
      "execution_count": 61,
      "outputs": []
    },
    {
      "cell_type": "code",
      "metadata": {
        "id": "AAcNB1gK980M",
        "colab_type": "code",
        "colab": {}
      },
      "source": [
        "print(ts.info)"
      ],
      "execution_count": null,
      "outputs": []
    },
    {
      "cell_type": "code",
      "metadata": {
        "id": "hONf7jAhUFR6",
        "colab_type": "code",
        "colab": {
          "base_uri": "https://localhost:8080/",
          "height": 68
        },
        "outputId": "0e956762-5468-4e45-eae2-48ae89f3001f"
      },
      "source": [
        "data_rng_series = ts['inx']\n",
        "print(type(data_rng_series))\n",
        "date_rng_lst = [data_rng_series.iloc[i*rep_int] for i in range(n_series)]\n",
        "#print(type(date_rng_lst))\n",
        "print(len(date_rng_lst))\n",
        "print(date_rng_lst[0:3])"
      ],
      "execution_count": 63,
      "outputs": [
        {
          "output_type": "stream",
          "text": [
            "<class 'pandas.core.series.Series'>\n",
            "6\n",
            "[Timestamp('2011-01-08 00:00:00'), Timestamp('2011-03-29 00:00:00'), Timestamp('2011-06-17 00:00:00')]\n"
          ],
          "name": "stdout"
        }
      ]
    },
    {
      "cell_type": "code",
      "metadata": {
        "id": "60TCtkJOklNd",
        "colab_type": "code",
        "colab": {
          "base_uri": "https://localhost:8080/",
          "height": 34
        },
        "outputId": "f5a0cb12-c139-41fa-a71f-341776d42cb7"
      },
      "source": [
        "date_rng_np = np.array(date_rng).reshape((n_series,rep_int))\n",
        "date_rng_np\n",
        "print(type(date_rng_np[0,0]))"
      ],
      "execution_count": 64,
      "outputs": [
        {
          "output_type": "stream",
          "text": [
            "<class 'numpy.datetime64'>\n"
          ],
          "name": "stdout"
        }
      ]
    },
    {
      "cell_type": "code",
      "metadata": {
        "id": "NWx4FxzgjEiE",
        "colab_type": "code",
        "colab": {
          "base_uri": "https://localhost:8080/",
          "height": 51
        },
        "outputId": "18b8ad6e-569d-4d59-8acd-8fe0645fda46"
      },
      "source": [
        "narray.reshape((n_series,rep_int))\n",
        "print (narray.shape)\n",
        "print (n_series,rep_int)"
      ],
      "execution_count": 78,
      "outputs": [
        {
          "output_type": "stream",
          "text": [
            "(6, 80)\n",
            "6 80\n"
          ],
          "name": "stdout"
        }
      ]
    },
    {
      "cell_type": "code",
      "metadata": {
        "id": "F01qDyGy6CZc",
        "colab_type": "code",
        "colab": {
          "base_uri": "https://localhost:8080/",
          "height": 54
        },
        "outputId": "b3f57ae7-7502-4aae-fb61-5cbdbba15e8a"
      },
      "source": [
        "cus_ds_meta = {'num_series': n_series,\n",
        "                      'num_steps': 80,\n",
        "                      'prediction_length': 20,\n",
        "                      'freq': '1D',\n",
        "                      'start': [pd.Timestamp(start_date, freq='1D') for _ in range(n_series)]\n",
        "                     }\n",
        "print (cus_ds_meta.items())"
      ],
      "execution_count": 79,
      "outputs": [
        {
          "output_type": "stream",
          "text": [
            "dict_items([('num_series', 6), ('num_steps', 80), ('prediction_length', 20), ('freq', '1D'), ('start', [Timestamp('2012-01-02 00:00:00', freq='D'), Timestamp('2012-01-02 00:00:00', freq='D'), Timestamp('2012-01-02 00:00:00', freq='D'), Timestamp('2012-01-02 00:00:00', freq='D'), Timestamp('2012-01-02 00:00:00', freq='D'), Timestamp('2012-01-02 00:00:00', freq='D')])])\n"
          ],
          "name": "stdout"
        }
      ]
    },
    {
      "cell_type": "code",
      "metadata": {
        "id": "KUE1ckUkq_fN",
        "colab_type": "code",
        "colab": {}
      },
      "source": [
        "tr_narray = narray[:,:-cus_ds_meta['prediction_length']]\n",
        "train_ds = ListDataset([{FieldName.TARGET: target,\n",
        "                        FieldName.START: start}\n",
        "                       for (target, start) in zip(tr_narray,cus_ds_meta['start'])],\n",
        "                     freq=cus_ds_meta['freq'])"
      ],
      "execution_count": 95,
      "outputs": []
    },
    {
      "cell_type": "code",
      "metadata": {
        "id": "moJeaTthOHNq",
        "colab_type": "code",
        "colab": {}
      },
      "source": [
        "test_ds = ListDataset([{FieldName.TARGET: target,\n",
        "                        FieldName.START: start}\n",
        "                       for (target, start) in zip(narray,cus_ds_meta['start'])],\n",
        "                     freq=cus_ds_meta['freq'])"
      ],
      "execution_count": 96,
      "outputs": []
    },
    {
      "cell_type": "code",
      "metadata": {
        "id": "7TER6kRyQYmH",
        "colab_type": "code",
        "colab": {}
      },
      "source": [
        "train_entry = next(iter(train_ds))\n",
        "test_entry = next(iter(test_ds))"
      ],
      "execution_count": 97,
      "outputs": []
    },
    {
      "cell_type": "code",
      "metadata": {
        "id": "vovGZpEpQ0zO",
        "colab_type": "code",
        "colab": {
          "base_uri": "https://localhost:8080/",
          "height": 463
        },
        "outputId": "87bf5baf-f754-4d0c-f978-077d651c9e59"
      },
      "source": [
        "test_series = to_pandas(test_entry)\n",
        "train_series = to_pandas(train_entry)\n",
        "\n",
        "fig, ax = plt.subplots(2, 1, sharex=True, sharey=True, figsize=(10, 7))\n",
        "\n",
        "train_series.plot(ax=ax[0])\n",
        "ax[0].grid(which=\"both\")\n",
        "ax[0].legend([\"train series\"], loc=\"upper left\")\n",
        "\n",
        "test_series.plot(ax=ax[1])\n",
        "ax[1].axvline(train_series.index[-1], color='r') # end of train dataset\n",
        "ax[1].grid(which=\"both\")\n",
        "ax[1].legend([\"test series\", \"end of train series\"], loc=\"upper left\")\n",
        "\n",
        "plt.show()"
      ],
      "execution_count": 98,
      "outputs": [
        {
          "output_type": "display_data",
          "data": {
            "image/png": "[encoded data removed]",
            "text/plain": [
              "<Figure size 720x504 with 2 Axes>"
            ]
          },
          "metadata": {
            "tags": [],
            "needs_background": "light"
          }
        }
      ]
    },
    {
      "cell_type": "code",
      "metadata": {
        "id": "FKaU7M4TXOPC",
        "colab_type": "code",
        "colab": {}
      },
      "source": [
        "\n",
        "from gluonts.model.simple_feedforward import SimpleFeedForwardEstimator\n",
        "from gluonts.trainer import Trainer"
      ],
      "execution_count": 100,
      "outputs": []
    },
    {
      "cell_type": "code",
      "metadata": {
        "id": "-uNrSaU9XMjo",
        "colab_type": "code",
        "colab": {}
      },
      "source": [
        "estimator = SimpleFeedForwardEstimator(\n",
        "    num_hidden_dimensions=[40],\n",
        "    prediction_length=cus_ds_meta['prediction_length'],\n",
        "    context_length=2*cus_ds_meta['prediction_length'],\n",
        "    freq=cus_ds_meta['freq'],\n",
        "    trainer=Trainer(ctx=\"cpu\",\n",
        "                    epochs=200,\n",
        "                    learning_rate=1e-3,\n",
        "                    hybridize=False,\n",
        "                    num_batches_per_epoch=100\n",
        "                   )\n",
        ")"
      ],
      "execution_count": 150,
      "outputs": []
    },
    {
      "cell_type": "code",
      "metadata": {
        "id": "gfHh7sAE1CUO",
        "colab_type": "code",
        "colab": {
          "base_uri": "https://localhost:8080/",
          "height": 34
        },
        "outputId": "89a29162-58d6-4971-c5cd-a81a193f2552"
      },
      "source": [
        "print (type(train_ds))\n"
      ],
      "execution_count": 151,
      "outputs": [
        {
          "output_type": "stream",
          "text": [
            "gluonts.dataset.common.ListDataset\n"
          ],
          "name": "stdout"
        }
      ]
    },
    {
      "cell_type": "code",
      "metadata": {
        "id": "lsyteQnjcRF7",
        "colab_type": "code",
        "colab": {
          "base_uri": "https://localhost:8080/",
          "height": 1000
        },
        "outputId": "840bccfa-978b-48f7-bd85-6de651d8dd3d"
      },
      "source": [
        "predictor = estimator.train(train_ds)"
      ],
      "execution_count": 152,
      "outputs": [
        {
          "output_type": "stream",
          "text": [
            "\r  0%|          | 0/100 [00:00<?, ?it/s]"
          ],
          "name": "stderr"
        },
        {
          "output_type": "stream",
          "text": [
            "learning rate from ``lr_scheduler`` has been overwritten by ``learning_rate`` in optimizer.\n"
          ],
          "name": "stdout"
        },
        {
          "output_type": "stream",
          "text": [
            "100%|██████████| 100/100 [00:01<00:00, 84.28it/s, epoch=1/200, avg_epoch_loss=13.6]\n",
            "100%|██████████| 100/100 [00:01<00:00, 86.29it/s, epoch=2/200, avg_epoch_loss=13.2]\n",
            "100%|██████████| 100/100 [00:01<00:00, 85.52it/s, epoch=3/200, avg_epoch_loss=13.1]\n",
            "100%|██████████| 100/100 [00:01<00:00, 86.52it/s, epoch=4/200, avg_epoch_loss=13]\n",
            "100%|██████████| 100/100 [00:01<00:00, 84.60it/s, epoch=5/200, avg_epoch_loss=13]\n",
            "100%|██████████| 100/100 [00:01<00:00, 86.18it/s, epoch=6/200, avg_epoch_loss=13]\n",
            "100%|██████████| 100/100 [00:01<00:00, 86.60it/s, epoch=7/200, avg_epoch_loss=13]\n",
            "100%|██████████| 100/100 [00:01<00:00, 86.41it/s, epoch=8/200, avg_epoch_loss=13]\n",
            "100%|██████████| 100/100 [00:01<00:00, 86.97it/s, epoch=9/200, avg_epoch_loss=12.9]\n",
            "100%|██████████| 100/100 [00:01<00:00, 85.20it/s, epoch=10/200, avg_epoch_loss=12.9]\n",
            "100%|██████████| 100/100 [00:01<00:00, 85.79it/s, epoch=11/200, avg_epoch_loss=12.9]\n",
            "100%|██████████| 100/100 [00:01<00:00, 87.37it/s, epoch=12/200, avg_epoch_loss=12.9]\n",
            "100%|██████████| 100/100 [00:01<00:00, 85.82it/s, epoch=13/200, avg_epoch_loss=12.9]\n",
            "100%|██████████| 100/100 [00:01<00:00, 84.81it/s, epoch=14/200, avg_epoch_loss=12.9]\n",
            "100%|██████████| 100/100 [00:01<00:00, 85.91it/s, epoch=15/200, avg_epoch_loss=12.9]\n",
            "100%|██████████| 100/100 [00:01<00:00, 86.22it/s, epoch=16/200, avg_epoch_loss=12.9]\n",
            "100%|██████████| 100/100 [00:01<00:00, 87.76it/s, epoch=17/200, avg_epoch_loss=12.9]\n",
            "100%|██████████| 100/100 [00:01<00:00, 86.23it/s, epoch=18/200, avg_epoch_loss=12.9]\n",
            "100%|██████████| 100/100 [00:01<00:00, 84.32it/s, epoch=19/200, avg_epoch_loss=12.9]\n",
            "100%|██████████| 100/100 [00:01<00:00, 85.84it/s, epoch=20/200, avg_epoch_loss=12.9]\n",
            "100%|██████████| 100/100 [00:01<00:00, 87.55it/s, epoch=21/200, avg_epoch_loss=12.8]\n",
            "100%|██████████| 100/100 [00:01<00:00, 85.83it/s, epoch=22/200, avg_epoch_loss=12.8]\n",
            "100%|██████████| 100/100 [00:01<00:00, 85.11it/s, epoch=23/200, avg_epoch_loss=12.8]\n",
            "100%|██████████| 100/100 [00:01<00:00, 85.72it/s, epoch=24/200, avg_epoch_loss=12.8]\n",
            "100%|██████████| 100/100 [00:01<00:00, 85.82it/s, epoch=25/200, avg_epoch_loss=12.8]\n",
            "100%|██████████| 100/100 [00:01<00:00, 86.56it/s, epoch=26/200, avg_epoch_loss=12.8]\n",
            "100%|██████████| 100/100 [00:01<00:00, 85.47it/s, epoch=27/200, avg_epoch_loss=12.8]\n",
            "100%|██████████| 100/100 [00:01<00:00, 85.79it/s, epoch=28/200, avg_epoch_loss=12.8]\n",
            "100%|██████████| 100/100 [00:01<00:00, 85.00it/s, epoch=29/200, avg_epoch_loss=12.8]\n",
            "100%|██████████| 100/100 [00:01<00:00, 86.74it/s, epoch=30/200, avg_epoch_loss=12.8]\n",
            "100%|██████████| 100/100 [00:01<00:00, 86.11it/s, epoch=31/200, avg_epoch_loss=12.8]\n",
            "100%|██████████| 100/100 [00:01<00:00, 85.14it/s, epoch=32/200, avg_epoch_loss=12.8]\n",
            "100%|██████████| 100/100 [00:01<00:00, 87.56it/s, epoch=33/200, avg_epoch_loss=12.8]\n",
            "100%|██████████| 100/100 [00:01<00:00, 86.79it/s, epoch=34/200, avg_epoch_loss=12.8]\n",
            "100%|██████████| 100/100 [00:01<00:00, 86.38it/s, epoch=35/200, avg_epoch_loss=12.8]\n",
            "100%|██████████| 100/100 [00:01<00:00, 86.40it/s, epoch=36/200, avg_epoch_loss=12.8]\n",
            "100%|██████████| 100/100 [00:01<00:00, 85.70it/s, epoch=37/200, avg_epoch_loss=12.8]\n",
            "100%|██████████| 100/100 [00:01<00:00, 86.96it/s, epoch=38/200, avg_epoch_loss=12.8]\n",
            "100%|██████████| 100/100 [00:01<00:00, 86.28it/s, epoch=39/200, avg_epoch_loss=12.8]\n",
            "100%|██████████| 100/100 [00:01<00:00, 86.53it/s, epoch=40/200, avg_epoch_loss=12.8]\n",
            "100%|██████████| 100/100 [00:01<00:00, 86.95it/s, epoch=41/200, avg_epoch_loss=12.8]\n",
            "100%|██████████| 100/100 [00:01<00:00, 86.50it/s, epoch=42/200, avg_epoch_loss=12.8]\n",
            "100%|██████████| 100/100 [00:01<00:00, 83.86it/s, epoch=43/200, avg_epoch_loss=12.8]\n",
            "100%|██████████| 100/100 [00:01<00:00, 86.58it/s, epoch=44/200, avg_epoch_loss=12.8]\n",
            "100%|██████████| 100/100 [00:01<00:00, 85.11it/s, epoch=45/200, avg_epoch_loss=12.8]\n",
            "100%|██████████| 100/100 [00:01<00:00, 85.31it/s, epoch=46/200, avg_epoch_loss=12.8]\n",
            "100%|██████████| 100/100 [00:01<00:00, 87.32it/s, epoch=47/200, avg_epoch_loss=12.8]\n",
            "100%|██████████| 100/100 [00:01<00:00, 85.59it/s, epoch=48/200, avg_epoch_loss=12.8]\n",
            "100%|██████████| 100/100 [00:01<00:00, 85.44it/s, epoch=49/200, avg_epoch_loss=12.8]\n",
            "100%|██████████| 100/100 [00:01<00:00, 85.85it/s, epoch=50/200, avg_epoch_loss=12.7]\n",
            "100%|██████████| 100/100 [00:01<00:00, 86.26it/s, epoch=51/200, avg_epoch_loss=12.8]\n",
            "100%|██████████| 100/100 [00:01<00:00, 86.45it/s, epoch=52/200, avg_epoch_loss=12.8]\n",
            "100%|██████████| 100/100 [00:01<00:00, 86.34it/s, epoch=53/200, avg_epoch_loss=12.8]\n",
            "100%|██████████| 100/100 [00:01<00:00, 85.63it/s, epoch=54/200, avg_epoch_loss=12.7]\n",
            "100%|██████████| 100/100 [00:01<00:00, 86.96it/s, epoch=55/200, avg_epoch_loss=12.8]\n",
            "100%|██████████| 100/100 [00:01<00:00, 87.49it/s, epoch=56/200, avg_epoch_loss=12.7]\n",
            "100%|██████████| 100/100 [00:01<00:00, 87.04it/s, epoch=57/200, avg_epoch_loss=12.7]\n",
            "100%|██████████| 100/100 [00:01<00:00, 84.10it/s, epoch=58/200, avg_epoch_loss=12.7]\n",
            "100%|██████████| 100/100 [00:01<00:00, 86.20it/s, epoch=59/200, avg_epoch_loss=12.7]\n",
            "100%|██████████| 100/100 [00:01<00:00, 86.83it/s, epoch=60/200, avg_epoch_loss=12.7]\n",
            "100%|██████████| 100/100 [00:01<00:00, 85.38it/s, epoch=61/200, avg_epoch_loss=12.7]\n",
            "100%|██████████| 100/100 [00:01<00:00, 87.45it/s, epoch=62/200, avg_epoch_loss=12.7]\n",
            "100%|██████████| 100/100 [00:01<00:00, 86.74it/s, epoch=63/200, avg_epoch_loss=12.8]\n",
            "100%|██████████| 100/100 [00:01<00:00, 85.42it/s, epoch=64/200, avg_epoch_loss=12.7]\n",
            "100%|██████████| 100/100 [00:01<00:00, 84.82it/s, epoch=65/200, avg_epoch_loss=12.8]\n",
            "100%|██████████| 100/100 [00:01<00:00, 87.03it/s, epoch=66/200, avg_epoch_loss=12.7]\n",
            "100%|██████████| 100/100 [00:01<00:00, 85.31it/s, epoch=67/200, avg_epoch_loss=12.7]\n",
            "100%|██████████| 100/100 [00:01<00:00, 86.36it/s, epoch=68/200, avg_epoch_loss=12.7]\n",
            "100%|██████████| 100/100 [00:01<00:00, 87.61it/s, epoch=69/200, avg_epoch_loss=12.7]\n",
            "100%|██████████| 100/100 [00:01<00:00, 86.66it/s, epoch=70/200, avg_epoch_loss=12.7]\n",
            "100%|██████████| 100/100 [00:01<00:00, 87.06it/s, epoch=71/200, avg_epoch_loss=12.7]\n",
            "100%|██████████| 100/100 [00:01<00:00, 86.80it/s, epoch=72/200, avg_epoch_loss=12.7]\n",
            "100%|██████████| 100/100 [00:01<00:00, 86.55it/s, epoch=73/200, avg_epoch_loss=12.7]\n",
            "100%|██████████| 100/100 [00:01<00:00, 86.28it/s, epoch=74/200, avg_epoch_loss=12.7]\n",
            "100%|██████████| 100/100 [00:01<00:00, 85.96it/s, epoch=75/200, avg_epoch_loss=12.7]\n",
            "100%|██████████| 100/100 [00:01<00:00, 87.62it/s, epoch=76/200, avg_epoch_loss=12.7]\n",
            "100%|██████████| 100/100 [00:01<00:00, 86.28it/s, epoch=77/200, avg_epoch_loss=12.7]\n",
            "100%|██████████| 100/100 [00:01<00:00, 86.85it/s, epoch=78/200, avg_epoch_loss=12.7]\n",
            "100%|██████████| 100/100 [00:01<00:00, 87.89it/s, epoch=79/200, avg_epoch_loss=12.7]\n",
            "100%|██████████| 100/100 [00:01<00:00, 88.17it/s, epoch=80/200, avg_epoch_loss=12.7]\n",
            "100%|██████████| 100/100 [00:01<00:00, 85.67it/s, epoch=81/200, avg_epoch_loss=12.7]\n",
            "100%|██████████| 100/100 [00:01<00:00, 86.48it/s, epoch=82/200, avg_epoch_loss=12.7]\n",
            "100%|██████████| 100/100 [00:01<00:00, 86.74it/s, epoch=83/200, avg_epoch_loss=12.7]\n",
            "100%|██████████| 100/100 [00:01<00:00, 87.22it/s, epoch=84/200, avg_epoch_loss=12.7]\n",
            "100%|██████████| 100/100 [00:01<00:00, 86.43it/s, epoch=85/200, avg_epoch_loss=12.7]\n",
            "100%|██████████| 100/100 [00:01<00:00, 86.78it/s, epoch=86/200, avg_epoch_loss=12.7]\n",
            "100%|██████████| 100/100 [00:01<00:00, 84.83it/s, epoch=87/200, avg_epoch_loss=12.6]\n",
            "100%|██████████| 100/100 [00:01<00:00, 85.38it/s, epoch=88/200, avg_epoch_loss=12.6]\n",
            "100%|██████████| 100/100 [00:01<00:00, 85.60it/s, epoch=89/200, avg_epoch_loss=12.6]\n",
            "100%|██████████| 100/100 [00:01<00:00, 88.24it/s, epoch=90/200, avg_epoch_loss=12.6]\n",
            "100%|██████████| 100/100 [00:01<00:00, 85.55it/s, epoch=91/200, avg_epoch_loss=12.6]\n",
            "100%|██████████| 100/100 [00:01<00:00, 87.66it/s, epoch=92/200, avg_epoch_loss=12.6]\n",
            "100%|██████████| 100/100 [00:01<00:00, 88.07it/s, epoch=93/200, avg_epoch_loss=12.7]\n",
            "100%|██████████| 100/100 [00:01<00:00, 87.20it/s, epoch=94/200, avg_epoch_loss=12.6]\n",
            "100%|██████████| 100/100 [00:01<00:00, 84.67it/s, epoch=95/200, avg_epoch_loss=12.6]\n",
            "100%|██████████| 100/100 [00:01<00:00, 84.87it/s, epoch=96/200, avg_epoch_loss=12.6]\n",
            "100%|██████████| 100/100 [00:01<00:00, 84.60it/s, epoch=97/200, avg_epoch_loss=12.6]\n",
            "100%|██████████| 100/100 [00:01<00:00, 86.90it/s, epoch=98/200, avg_epoch_loss=12.6]\n",
            "100%|██████████| 100/100 [00:01<00:00, 86.81it/s, epoch=99/200, avg_epoch_loss=12.6]\n",
            "100%|██████████| 100/100 [00:01<00:00, 85.25it/s, epoch=100/200, avg_epoch_loss=12.6]\n",
            "100%|██████████| 100/100 [00:01<00:00, 86.85it/s, epoch=101/200, avg_epoch_loss=12.6]\n",
            "100%|██████████| 100/100 [00:01<00:00, 86.25it/s, epoch=102/200, avg_epoch_loss=12.6]\n",
            "100%|██████████| 100/100 [00:01<00:00, 86.23it/s, epoch=103/200, avg_epoch_loss=12.6]\n",
            "100%|██████████| 100/100 [00:01<00:00, 85.61it/s, epoch=104/200, avg_epoch_loss=12.6]\n",
            "100%|██████████| 100/100 [00:01<00:00, 85.81it/s, epoch=105/200, avg_epoch_loss=12.6]\n",
            "100%|██████████| 100/100 [00:01<00:00, 85.91it/s, epoch=106/200, avg_epoch_loss=12.6]\n",
            "100%|██████████| 100/100 [00:01<00:00, 84.24it/s, epoch=107/200, avg_epoch_loss=12.6]\n",
            "100%|██████████| 100/100 [00:01<00:00, 86.04it/s, epoch=108/200, avg_epoch_loss=12.6]\n",
            "100%|██████████| 100/100 [00:01<00:00, 87.70it/s, epoch=109/200, avg_epoch_loss=12.6]\n",
            "100%|██████████| 100/100 [00:01<00:00, 86.73it/s, epoch=110/200, avg_epoch_loss=12.6]\n",
            "100%|██████████| 100/100 [00:01<00:00, 86.64it/s, epoch=111/200, avg_epoch_loss=12.6]\n",
            "100%|██████████| 100/100 [00:01<00:00, 87.51it/s, epoch=112/200, avg_epoch_loss=12.6]\n",
            "100%|██████████| 100/100 [00:01<00:00, 88.19it/s, epoch=113/200, avg_epoch_loss=12.6]\n",
            "100%|██████████| 100/100 [00:01<00:00, 86.05it/s, epoch=114/200, avg_epoch_loss=12.6]\n",
            "100%|██████████| 100/100 [00:01<00:00, 85.04it/s, epoch=115/200, avg_epoch_loss=12.6]\n",
            "100%|██████████| 100/100 [00:01<00:00, 84.70it/s, epoch=116/200, avg_epoch_loss=12.6]\n",
            "100%|██████████| 100/100 [00:01<00:00, 85.79it/s, epoch=117/200, avg_epoch_loss=12.6]\n",
            "100%|██████████| 100/100 [00:01<00:00, 88.96it/s, epoch=118/200, avg_epoch_loss=12.6]\n",
            "100%|██████████| 100/100 [00:01<00:00, 85.43it/s, epoch=119/200, avg_epoch_loss=12.6]\n",
            "100%|██████████| 100/100 [00:01<00:00, 84.58it/s, epoch=120/200, avg_epoch_loss=12.6]\n",
            "100%|██████████| 100/100 [00:01<00:00, 84.01it/s, epoch=121/200, avg_epoch_loss=12.6]\n",
            "100%|██████████| 100/100 [00:01<00:00, 86.70it/s, epoch=122/200, avg_epoch_loss=12.6]\n",
            "100%|██████████| 100/100 [00:01<00:00, 85.67it/s, epoch=123/200, avg_epoch_loss=12.6]\n",
            "100%|██████████| 100/100 [00:01<00:00, 85.40it/s, epoch=124/200, avg_epoch_loss=12.6]\n",
            "100%|██████████| 100/100 [00:01<00:00, 84.54it/s, epoch=125/200, avg_epoch_loss=12.6]\n",
            "100%|██████████| 100/100 [00:01<00:00, 87.17it/s, epoch=126/200, avg_epoch_loss=12.5]\n",
            "100%|██████████| 100/100 [00:01<00:00, 86.80it/s, epoch=127/200, avg_epoch_loss=12.5]\n",
            "100%|██████████| 100/100 [00:01<00:00, 84.96it/s, epoch=128/200, avg_epoch_loss=12.6]\n",
            "100%|██████████| 100/100 [00:01<00:00, 86.36it/s, epoch=129/200, avg_epoch_loss=12.5]\n",
            "100%|██████████| 100/100 [00:01<00:00, 86.83it/s, epoch=130/200, avg_epoch_loss=12.6]\n",
            "100%|██████████| 100/100 [00:01<00:00, 86.98it/s, epoch=131/200, avg_epoch_loss=12.6]\n",
            "100%|██████████| 100/100 [00:01<00:00, 86.05it/s, epoch=132/200, avg_epoch_loss=12.6]\n",
            "100%|██████████| 100/100 [00:01<00:00, 83.51it/s, epoch=133/200, avg_epoch_loss=12.6]\n",
            "100%|██████████| 100/100 [00:01<00:00, 85.92it/s, epoch=134/200, avg_epoch_loss=12.6]\n",
            "100%|██████████| 100/100 [00:01<00:00, 86.24it/s, epoch=135/200, avg_epoch_loss=12.6]\n",
            "100%|██████████| 100/100 [00:01<00:00, 85.83it/s, epoch=136/200, avg_epoch_loss=12.6]\n",
            "100%|██████████| 100/100 [00:01<00:00, 88.52it/s, epoch=137/200, avg_epoch_loss=12.6]\n",
            "100%|██████████| 100/100 [00:01<00:00, 85.39it/s, epoch=138/200, avg_epoch_loss=12.5]\n",
            "100%|██████████| 100/100 [00:01<00:00, 87.01it/s, epoch=139/200, avg_epoch_loss=12.5]\n",
            "100%|██████████| 100/100 [00:01<00:00, 86.44it/s, epoch=140/200, avg_epoch_loss=12.5]\n",
            "100%|██████████| 100/100 [00:01<00:00, 82.90it/s, epoch=141/200, avg_epoch_loss=12.6]\n",
            "100%|██████████| 100/100 [00:01<00:00, 86.57it/s, epoch=142/200, avg_epoch_loss=12.5]\n",
            "100%|██████████| 100/100 [00:01<00:00, 86.68it/s, epoch=143/200, avg_epoch_loss=12.5]\n",
            "100%|██████████| 100/100 [00:01<00:00, 86.85it/s, epoch=144/200, avg_epoch_loss=12.5]\n",
            "100%|██████████| 100/100 [00:01<00:00, 86.08it/s, epoch=145/200, avg_epoch_loss=12.5]\n",
            "100%|██████████| 100/100 [00:01<00:00, 84.06it/s, epoch=146/200, avg_epoch_loss=12.5]\n",
            "100%|██████████| 100/100 [00:01<00:00, 84.62it/s, epoch=147/200, avg_epoch_loss=12.5]\n",
            "100%|██████████| 100/100 [00:01<00:00, 85.76it/s, epoch=148/200, avg_epoch_loss=12.5]\n",
            "100%|██████████| 100/100 [00:01<00:00, 87.00it/s, epoch=149/200, avg_epoch_loss=12.5]\n",
            "100%|██████████| 100/100 [00:01<00:00, 87.01it/s, epoch=150/200, avg_epoch_loss=12.5]\n",
            "100%|██████████| 100/100 [00:01<00:00, 86.99it/s, epoch=151/200, avg_epoch_loss=12.5]\n",
            "100%|██████████| 100/100 [00:01<00:00, 83.25it/s, epoch=152/200, avg_epoch_loss=12.5]\n",
            "100%|██████████| 100/100 [00:01<00:00, 86.51it/s, epoch=153/200, avg_epoch_loss=12.5]\n",
            "100%|██████████| 100/100 [00:01<00:00, 85.80it/s, epoch=154/200, avg_epoch_loss=12.5]\n",
            "100%|██████████| 100/100 [00:01<00:00, 87.48it/s, epoch=155/200, avg_epoch_loss=12.5]\n",
            "100%|██████████| 100/100 [00:01<00:00, 88.42it/s, epoch=156/200, avg_epoch_loss=12.5]\n",
            "100%|██████████| 100/100 [00:01<00:00, 85.77it/s, epoch=157/200, avg_epoch_loss=12.5]\n",
            "100%|██████████| 100/100 [00:01<00:00, 86.64it/s, epoch=158/200, avg_epoch_loss=12.5]\n",
            "100%|██████████| 100/100 [00:01<00:00, 86.55it/s, epoch=159/200, avg_epoch_loss=12.5]\n",
            "100%|██████████| 100/100 [00:01<00:00, 85.88it/s, epoch=160/200, avg_epoch_loss=12.5]\n",
            "100%|██████████| 100/100 [00:01<00:00, 85.28it/s, epoch=161/200, avg_epoch_loss=12.5]\n",
            "100%|██████████| 100/100 [00:01<00:00, 84.83it/s, epoch=162/200, avg_epoch_loss=12.5]\n",
            "100%|██████████| 100/100 [00:01<00:00, 85.69it/s, epoch=163/200, avg_epoch_loss=12.5]\n",
            "100%|██████████| 100/100 [00:01<00:00, 86.44it/s, epoch=164/200, avg_epoch_loss=12.5]\n",
            "100%|██████████| 100/100 [00:01<00:00, 85.86it/s, epoch=165/200, avg_epoch_loss=12.5]\n",
            "100%|██████████| 100/100 [00:01<00:00, 84.82it/s, epoch=166/200, avg_epoch_loss=12.5]\n",
            "100%|██████████| 100/100 [00:01<00:00, 83.92it/s, epoch=167/200, avg_epoch_loss=12.5]\n",
            "100%|██████████| 100/100 [00:01<00:00, 83.23it/s, epoch=168/200, avg_epoch_loss=12.5]\n",
            "100%|██████████| 100/100 [00:01<00:00, 84.27it/s, epoch=169/200, avg_epoch_loss=12.5]\n",
            "100%|██████████| 100/100 [00:01<00:00, 84.58it/s, epoch=170/200, avg_epoch_loss=12.5]\n"
          ],
          "name": "stderr"
        }
      ]
    },
    {
      "cell_type": "code",
      "metadata": {
        "id": "onPMAjy3dHZs",
        "colab_type": "code",
        "colab": {}
      },
      "source": [
        "from gluonts.evaluation.backtest import make_evaluation_predictions"
      ],
      "execution_count": 153,
      "outputs": []
    },
    {
      "cell_type": "code",
      "metadata": {
        "id": "HtnNGYd5dN-h",
        "colab_type": "code",
        "colab": {}
      },
      "source": [
        "forecast_it, ts_it = make_evaluation_predictions(\n",
        "    dataset=test_ds,  # test dataset\n",
        "    predictor=predictor,  # predictor\n",
        "    num_samples=20,  # number of sample paths we want for evaluation\n",
        ")"
      ],
      "execution_count": 154,
      "outputs": []
    },
    {
      "cell_type": "code",
      "metadata": {
        "id": "fIycfN1kddTY",
        "colab_type": "code",
        "colab": {}
      },
      "source": [
        "forecasts = list(forecast_it)\n",
        "\n",
        "tss = list(ts_it)"
      ],
      "execution_count": 155,
      "outputs": []
    },
    {
      "cell_type": "code",
      "metadata": {
        "id": "XQfxzfIXdoE2",
        "colab_type": "code",
        "colab": {
          "base_uri": "https://localhost:8080/",
          "height": 255
        },
        "outputId": "784a5b49-5875-4353-bebc-5cd59556f389"
      },
      "source": [
        "# first entry of the time series list\n",
        "ts_entry = tss[5]\n",
        "print(ts_entry)"
      ],
      "execution_count": 156,
      "outputs": [
        {
          "output_type": "stream",
          "text": [
            "                   0\n",
            "2012-01-02  493906.0\n",
            "2012-01-03  286801.0\n",
            "2012-01-04  184020.0\n",
            "2012-01-05       0.0\n",
            "2012-01-06       0.0\n",
            "...              ...\n",
            "2012-03-17  803601.0\n",
            "2012-03-18  196212.0\n",
            "2012-03-19  163503.0\n",
            "2012-03-20  221811.0\n",
            "2012-03-21  363108.0\n",
            "\n",
            "[80 rows x 1 columns]\n"
          ],
          "name": "stdout"
        }
      ]
    },
    {
      "cell_type": "code",
      "metadata": {
        "id": "dANgUSAUd6bn",
        "colab_type": "code",
        "colab": {}
      },
      "source": [
        "def plot_prob_forecasts(ts_entry, forecast_entry):\n",
        "    plot_length = 250\n",
        "    prediction_intervals = (50.0,90.0)\n",
        "    legend = [\"observations\", \"median prediction\"] + [f\"{k}% prediction interval\" for k in prediction_intervals][::-1]\n",
        "\n",
        "    fig, ax = plt.subplots(1, 1, figsize=(10, 7))\n",
        "    ts_entry[-plot_length:].plot(ax=ax)  # plot the time series\n",
        "    forecast_entry.plot(prediction_intervals=prediction_intervals, color='g')\n",
        "    plt.grid(which=\"both\")\n",
        "    plt.legend(legend, loc=\"upper left\")\n",
        "    plt.show()"
      ],
      "execution_count": 157,
      "outputs": []
    },
    {
      "cell_type": "code",
      "metadata": {
        "id": "40S-xlBEd96r",
        "colab_type": "code",
        "colab": {
          "base_uri": "https://localhost:8080/",
          "height": 474
        },
        "outputId": "7e1b707e-3be4-4ec1-b1a0-65ee9b32c3e3"
      },
      "source": [
        "forecast_entry = forecasts[5]\n",
        "plot_prob_forecasts(ts_entry, forecast_entry)"
      ],
      "execution_count": 158,
      "outputs": [
        {
          "output_type": "display_data",
          "data": {
            "image/png": "[encoded data removed]",
            "text/plain": [
              "<Figure size 720x504 with 1 Axes>"
            ]
          },
          "metadata": {
            "tags": [],
            "needs_background": "light"
          }
        }
      ]
    },
    {
      "cell_type": "markdown",
      "metadata": {
        "id": "uIR1T0hw2ddG",
        "colab_type": "text"
      },
      "source": [
        "the following is experiment and needs to be removed\n"
      ]
    },
    {
      "cell_type": "code",
      "metadata": {
        "id": "IeOPpiL-aHye",
        "colab_type": "code",
        "colab": {
          "base_uri": "https://localhost:8080/",
          "height": 34
        },
        "outputId": "c5121bd8-7038-4dd3-e8a2-7f269cff0d86"
      },
      "source": [
        "a = np.array(range(16)).reshape((4,4))\n",
        "a[:,2]\n"
      ],
      "execution_count": 97,
      "outputs": [
        {
          "output_type": "execute_result",
          "data": {
            "text/plain": [
              "array([ 2,  6, 10, 14])"
            ]
          },
          "metadata": {
            "tags": []
          },
          "execution_count": 97
        }
      ]
    },
    {
      "cell_type": "code",
      "metadata": {
        "id": "Ollr8v7dgwIc",
        "colab_type": "code",
        "colab": {}
      },
      "source": [
        "def create_dataset(num_series, num_steps, period=24, mu=1, sigma=0.3):\n",
        "    # create target: noise + pattern\n",
        "    # noise\n",
        "    noise = np.random.normal(mu, sigma, size=(num_series, num_steps))\n",
        "\n",
        "    # pattern - sinusoid with different phase\n",
        "    sin_minumPi_Pi = np.sin(np.tile(np.linspace(-np.pi, np.pi, period), int(num_steps / period)))\n",
        "    sin_Zero_2Pi = np.sin(np.tile(np.linspace(0, 2 * np.pi, 24), int(num_steps / period)))\n",
        "\n",
        "    pattern = np.concatenate((np.tile(sin_minumPi_Pi.reshape(1, -1),\n",
        "                                      (int(np.ceil(num_series / 2)),1)),\n",
        "                              np.tile(sin_Zero_2Pi.reshape(1, -1),\n",
        "                                      (int(np.floor(num_series / 2)), 1))\n",
        "                             ),\n",
        "                             axis=0\n",
        "                            )\n",
        "\n",
        "    target = noise + pattern\n",
        "\n",
        "    # create time features: use target one period earlier, append with zeros\n",
        "    feat_dynamic_real = np.concatenate((np.zeros((num_series, period)),\n",
        "                                        target[:, :-period]\n",
        "                                       ),\n",
        "                                       axis=1\n",
        "                                      )\n",
        "\n",
        "    # create categorical static feats: use the sinusoid type as a categorical feature\n",
        "    feat_static_cat = np.concatenate((np.zeros(int(np.ceil(num_series / 2))),\n",
        "                                      np.ones(int(np.floor(num_series / 2)))\n",
        "                                     ),\n",
        "                                     axis=0\n",
        "                                    )\n",
        "\n",
        "    return target, feat_dynamic_real, feat_static_cat"
      ],
      "execution_count": 252,
      "outputs": []
    },
    {
      "cell_type": "code",
      "metadata": {
        "id": "apw1SX4fgzgQ",
        "colab_type": "code",
        "colab": {}
      },
      "source": [
        "custom_ds_metadata = {'num_series': 100,\n",
        "                      'num_steps': 24 * 7,\n",
        "                      'prediction_length': 24,\n",
        "                      'freq': '1H',\n",
        "                      'start': [pd.Timestamp(\"01-01-2019\", freq='1H')\n",
        "                                for _ in range(100)]\n",
        "                     }"
      ],
      "execution_count": 253,
      "outputs": []
    },
    {
      "cell_type": "code",
      "metadata": {
        "id": "pPsqIqhog5ew",
        "colab_type": "code",
        "colab": {}
      },
      "source": [
        "\n",
        "data_out = create_dataset(custom_ds_metadata['num_series'],\n",
        "                          custom_ds_metadata['num_steps'],\n",
        "                          custom_ds_metadata['prediction_length']\n",
        "                         )\n",
        "\n",
        "target, feat_dynamic_real, feat_static_cat = data_out"
      ],
      "execution_count": 261,
      "outputs": []
    },
    {
      "cell_type": "code",
      "metadata": {
        "id": "iP9n7rixhkAr",
        "colab_type": "code",
        "colab": {}
      },
      "source": [
        "\n",
        "train_ds = ListDataset([{FieldName.TARGET: target,\n",
        "                         FieldName.START: start,\n",
        "                         FieldName.FEAT_DYNAMIC_REAL: [fdr],\n",
        "                         FieldName.FEAT_STATIC_CAT: [fsc]}\n",
        "                        for (target, start, fdr, fsc) in zip(target[:, :-custom_ds_metadata['prediction_length']],\n",
        "                                                             custom_ds_metadata['start'],\n",
        "                                                             feat_dynamic_real[:, :-custom_ds_metadata['prediction_length']],\n",
        "                                                             feat_static_cat)],\n",
        "                      freq=custom_ds_metadata['freq'])"
      ],
      "execution_count": 262,
      "outputs": []
    },
    {
      "cell_type": "code",
      "metadata": {
        "id": "9zm95LqbzPhb",
        "colab_type": "code",
        "colab": {}
      },
      "source": [
        "test_ds = ListDataset([{FieldName.TARGET: target,\n",
        "                        FieldName.START: start,\n",
        "                        FieldName.FEAT_DYNAMIC_REAL: [fdr],\n",
        "                        FieldName.FEAT_STATIC_CAT: [fsc]}\n",
        "                       for (target, start, fdr, fsc) in zip(target,\n",
        "                                                            custom_ds_metadata['start'],\n",
        "                                                            feat_dynamic_real,\n",
        "                                                            feat_static_cat)],\n",
        "                     freq=custom_ds_metadata['freq'])"
      ],
      "execution_count": 266,
      "outputs": []
    },
    {
      "cell_type": "code",
      "metadata": {
        "id": "fXZhJg6jwhaK",
        "colab_type": "code",
        "colab": {
          "base_uri": "https://localhost:8080/",
          "height": 34
        },
        "outputId": "36d4c790-dc34-4b88-8735-6c4ee1a29796"
      },
      "source": [
        "train_entry = next(iter(train_ds))\n",
        "train_entry.keys()"
      ],
      "execution_count": 256,
      "outputs": [
        {
          "output_type": "execute_result",
          "data": {
            "text/plain": [
              "dict_keys(['target', 'start', 'feat_dynamic_real', 'feat_static_cat', 'source'])"
            ]
          },
          "metadata": {
            "tags": []
          },
          "execution_count": 256
        }
      ]
    },
    {
      "cell_type": "code",
      "metadata": {
        "id": "-HJRnUzRAwrj",
        "colab_type": "code",
        "colab": {}
      },
      "source": [
        "for x in target[:, :-5]:\n",
        "  print (x)"
      ],
      "execution_count": null,
      "outputs": []
    },
    {
      "cell_type": "code",
      "metadata": {
        "id": "jf8qh0v75qT9",
        "colab_type": "code",
        "colab": {
          "base_uri": "https://localhost:8080/",
          "height": 119
        },
        "outputId": "28d245da-6966-467e-ab00-1eb348088d72"
      },
      "source": [
        "for i in range(3):\n",
        "  train_entry = next(iter(train_ds))\n",
        "  print(train_entry.keys())\n",
        "  print(train_entry['target'].shape)"
      ],
      "execution_count": 264,
      "outputs": [
        {
          "output_type": "stream",
          "text": [
            "dict_keys(['target', 'start', 'feat_dynamic_real', 'feat_static_cat', 'source'])\n",
            "(144,)\n",
            "dict_keys(['target', 'start', 'feat_dynamic_real', 'feat_static_cat', 'source'])\n",
            "(144,)\n",
            "dict_keys(['target', 'start', 'feat_dynamic_real', 'feat_static_cat', 'source'])\n",
            "(144,)\n"
          ],
          "name": "stdout"
        }
      ]
    },
    {
      "cell_type": "code",
      "metadata": {
        "id": "avKtuN0dy8W_",
        "colab_type": "code",
        "colab": {
          "base_uri": "https://localhost:8080/",
          "height": 34
        },
        "outputId": "3dbb7ad4-120e-4c32-ac10-f795d7fac4fd"
      },
      "source": [
        "test_entry = next(iter(test_ds))\n",
        "test_entry.keys()"
      ],
      "execution_count": 300,
      "outputs": [
        {
          "output_type": "execute_result",
          "data": {
            "text/plain": [
              "dict_keys(['target', 'start', 'feat_dynamic_real', 'feat_static_cat', 'source'])"
            ]
          },
          "metadata": {
            "tags": []
          },
          "execution_count": 300
        }
      ]
    },
    {
      "cell_type": "code",
      "metadata": {
        "id": "fxY65JH0zZGv",
        "colab_type": "code",
        "colab": {}
      },
      "source": [
        "for i in range(1):\n",
        "  test_entry = next(iter(test_ds))\n",
        "  print(test_entry.keys())\n",
        "print(test_entry['target'])\n",
        "test_entry = next(iter(test_ds))\n",
        "print('h')\n",
        "print(test_entry['source'])\n",
        "print(test_ds[0])"
      ],
      "execution_count": null,
      "outputs": []
    },
    {
      "cell_type": "code",
      "metadata": {
        "id": "UvXQs683Bo-I",
        "colab_type": "code",
        "colab": {
          "base_uri": "https://localhost:8080/",
          "height": 68
        },
        "outputId": "853b98d6-d629-4eee-ac09-51ccfc8feb21"
      },
      "source": [
        "ssss=('2','4','5','5','66')\n",
        "myit = iter(ssss)\n",
        "print(next(myit))\n",
        "print(next(myit))\n",
        "print(next(myit))\n"
      ],
      "execution_count": 299,
      "outputs": [
        {
          "output_type": "stream",
          "text": [
            "2\n",
            "4\n",
            "5\n"
          ],
          "name": "stdout"
        }
      ]
    }
  ]
}